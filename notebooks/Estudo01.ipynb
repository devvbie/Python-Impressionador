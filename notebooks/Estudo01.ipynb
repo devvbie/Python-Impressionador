{
 "cells": [
  {
   "cell_type": "code",
   "execution_count": 1,
   "id": "d07838b8",
   "metadata": {},
   "outputs": [
    {
     "name": "stdout",
     "output_type": "stream",
     "text": [
      "225.0\n"
     ]
    }
   ],
   "source": [
    "qtde = 150\n",
    "preco = 1.50\n",
    "print(qtde * preco)"
   ]
  },
  {
   "cell_type": "code",
   "execution_count": 2,
   "id": "5e85f391",
   "metadata": {},
   "outputs": [
    {
     "name": "stdout",
     "output_type": "stream",
     "text": [
      "123\n"
     ]
    }
   ],
   "source": [
    "print(123)"
   ]
  },
  {
   "cell_type": "code",
   "execution_count": 3,
   "id": "f7ed2abf",
   "metadata": {},
   "outputs": [
    {
     "name": "stdout",
     "output_type": "stream",
     "text": [
      "1\n"
     ]
    }
   ],
   "source": [
    "print(1)"
   ]
  },
  {
   "cell_type": "code",
   "execution_count": 4,
   "id": "9bd7f277",
   "metadata": {},
   "outputs": [
    {
     "name": "stdout",
     "output_type": "stream",
     "text": [
      "testando\n"
     ]
    }
   ],
   "source": [
    "print('testando')"
   ]
  },
  {
   "cell_type": "code",
   "execution_count": 5,
   "id": "4a826e6b",
   "metadata": {
    "scrolled": false
   },
   "outputs": [
    {
     "ename": "NameError",
     "evalue": "name 'teste' is not defined",
     "output_type": "error",
     "traceback": [
      "\u001b[1;31m---------------------------------------------------------------------------\u001b[0m",
      "\u001b[1;31mNameError\u001b[0m                                 Traceback (most recent call last)",
      "Input \u001b[1;32mIn [5]\u001b[0m, in \u001b[0;36m<cell line: 1>\u001b[1;34m()\u001b[0m\n\u001b[1;32m----> 1\u001b[0m \u001b[38;5;28mprint\u001b[39m(\u001b[43mteste\u001b[49m)\n",
      "\u001b[1;31mNameError\u001b[0m: name 'teste' is not defined"
     ]
    }
   ],
   "source": [
    "print(teste)"
   ]
  },
  {
   "cell_type": "code",
   "execution_count": null,
   "id": "08a79987",
   "metadata": {},
   "outputs": [],
   "source": [
    "-------------------------------------------------------------"
   ]
  },
  {
   "cell_type": "code",
   "execution_count": 6,
   "id": "9e0c171e",
   "metadata": {},
   "outputs": [
    {
     "name": "stdout",
     "output_type": "stream",
     "text": [
      "3\n",
      "2\n",
      "-1\n",
      "9\n",
      "1.5\n",
      "11.0\n",
      "10\n",
      "145\n",
      "1\n"
     ]
    },
    {
     "ename": "ZeroDivisionError",
     "evalue": "division by zero",
     "output_type": "error",
     "traceback": [
      "\u001b[1;31m---------------------------------------------------------------------------\u001b[0m",
      "\u001b[1;31mZeroDivisionError\u001b[0m                         Traceback (most recent call last)",
      "Input \u001b[1;32mIn [6]\u001b[0m, in \u001b[0;36m<cell line: 10>\u001b[1;34m()\u001b[0m\n\u001b[0;32m      8\u001b[0m \u001b[38;5;28mprint\u001b[39m (\u001b[38;5;241m73\u001b[39m\u001b[38;5;241m+\u001b[39m\u001b[38;5;241m72\u001b[39m)\n\u001b[0;32m      9\u001b[0m \u001b[38;5;28mprint\u001b[39m(\u001b[38;5;241m1\u001b[39m\u001b[38;5;241m%\u001b[39m\u001b[38;5;241m2\u001b[39m)\n\u001b[1;32m---> 10\u001b[0m \u001b[38;5;28mprint\u001b[39m(\u001b[38;5;241;43m2\u001b[39;49m\u001b[38;5;241;43m/\u001b[39;49m\u001b[38;5;241;43m0\u001b[39;49m)\n\u001b[0;32m     11\u001b[0m \u001b[38;5;28mprint\u001b[39m(\u001b[38;5;241m1\u001b[39m\u001b[38;5;241m+\u001b[39m\u001b[38;5;241m1\u001b[39m)\n",
      "\u001b[1;31mZeroDivisionError\u001b[0m: division by zero"
     ]
    }
   ],
   "source": [
    "print(1+2)\n",
    "print(1*2)\n",
    "print(1-2)\n",
    "print(3**2)\n",
    "print(3/2)\n",
    "print(2.2 * 5)\n",
    "print(2 * 5)\n",
    "print (73+72)\n",
    "print(1%2)\n",
    "print(2/0)\n",
    "print(1+1)"
   ]
  },
  {
   "cell_type": "code",
   "execution_count": 7,
   "id": "97995a7a",
   "metadata": {},
   "outputs": [
    {
     "name": "stdout",
     "output_type": "stream",
     "text": [
      "1+2\n"
     ]
    }
   ],
   "source": [
    "print('1+2')"
   ]
  },
  {
   "cell_type": "markdown",
   "id": "8d4e0ca9",
   "metadata": {},
   "source": [
    "As operações do python seguem as precedências matemáticas"
   ]
  },
  {
   "cell_type": "code",
   "execution_count": 8,
   "id": "8534e074",
   "metadata": {},
   "outputs": [
    {
     "name": "stdout",
     "output_type": "stream",
     "text": [
      "7\n",
      "9\n"
     ]
    }
   ],
   "source": [
    "print(1+2*3)\n",
    "print((1+2)*3)"
   ]
  },
  {
   "cell_type": "code",
   "execution_count": 9,
   "id": "58e9e42b",
   "metadata": {},
   "outputs": [
    {
     "name": "stdout",
     "output_type": "stream",
     "text": [
      "eu nunca volto atrás na minha palavra; este é o meu jeito ninja\n"
     ]
    }
   ],
   "source": [
    "print('eu nunca volto atrás na minha palavra; este é o meu jeito ninja')"
   ]
  },
  {
   "cell_type": "code",
   "execution_count": 10,
   "id": "ddcfb984",
   "metadata": {},
   "outputs": [
    {
     "name": "stdout",
     "output_type": "stream",
     "text": [
      "concatenaçao\n",
      "eu nuncavolto atrás\n",
      "eu nunca volto atrás\n",
      "teste 1-------------------------------\n",
      "True\n",
      "False\n",
      "teste 2-------------------------------\n",
      "True\n",
      "False\n",
      "sempre dê espaço entre os operadores e operandos -> boa pratica\n"
     ]
    }
   ],
   "source": [
    "print('concatenaçao')\n",
    "print('eu nunca' + 'volto atrás')\n",
    "print('eu nunca' + ' ' + 'volto atrás')\n",
    "print('teste 1-------------------------------')\n",
    "print('naruto' in 'naruto uzumaki')\n",
    "print('hinata' in 'naruto uzumaki')\n",
    "print('teste 2-------------------------------')\n",
    "print ('n' in 'naruto')\n",
    "print('N' in 'naruto')\n",
    "print('sempre dê espaço entre os operadores e operandos -> boa pratica')"
   ]
  },
  {
   "cell_type": "code",
   "execution_count": 11,
   "id": "5c99e486",
   "metadata": {},
   "outputs": [
    {
     "name": "stdout",
     "output_type": "stream",
     "text": [
      "Boruto\n",
      "17\n"
     ]
    }
   ],
   "source": [
    "qtd_bandanas = 17\n",
    "dono = 'Boruto'\n",
    "\n",
    "print(dono)\n",
    "print(qtd_bandanas)"
   ]
  },
  {
   "cell_type": "code",
   "execution_count": null,
   "id": "c21e1c05",
   "metadata": {},
   "outputs": [],
   "source": [
    "a = 1\n",
    "b = 6\n",
    "d = 8"
   ]
  },
  {
   "cell_type": "code",
   "execution_count": 12,
   "id": "2b8a7369",
   "metadata": {},
   "outputs": [
    {
     "ename": "NameError",
     "evalue": "name 'a' is not defined",
     "output_type": "error",
     "traceback": [
      "\u001b[1;31m---------------------------------------------------------------------------\u001b[0m",
      "\u001b[1;31mNameError\u001b[0m                                 Traceback (most recent call last)",
      "Input \u001b[1;32mIn [12]\u001b[0m, in \u001b[0;36m<cell line: 1>\u001b[1;34m()\u001b[0m\n\u001b[1;32m----> 1\u001b[0m c \u001b[38;5;241m=\u001b[39m \u001b[43ma\u001b[49m \u001b[38;5;241m+\u001b[39m b \u001b[38;5;241m+\u001b[39m d\n\u001b[0;32m      2\u001b[0m \u001b[38;5;28mprint\u001b[39m(c)\n",
      "\u001b[1;31mNameError\u001b[0m: name 'a' is not defined"
     ]
    }
   ],
   "source": [
    "c = a + b + d\n",
    "print(c)"
   ]
  },
  {
   "cell_type": "code",
   "execution_count": 13,
   "id": "28658163",
   "metadata": {},
   "outputs": [
    {
     "name": "stdout",
     "output_type": "stream",
     "text": [
      "digite seu personagem preferido: boruto\n",
      "seu personagem preferido é boruto\n"
     ]
    }
   ],
   "source": [
    "personagem = input('digite seu personagem preferido: ')\n",
    "print('seu personagem preferido é ' + personagem)"
   ]
  },
  {
   "cell_type": "code",
   "execution_count": 14,
   "id": "bc44f71c",
   "metadata": {},
   "outputs": [
    {
     "name": "stdout",
     "output_type": "stream",
     "text": [
      "qual o nome do personagem?hinata\n",
      "qual a aldeia do personagem?folha\n"
     ]
    }
   ],
   "source": [
    "nome = input(\"qual o nome do personagem?\")\n",
    "aldeia = input(\"qual a aldeia do personagem?\")"
   ]
  },
  {
   "cell_type": "code",
   "execution_count": 2,
   "id": "fce68be2",
   "metadata": {},
   "outputs": [
    {
     "ename": "TypeError",
     "evalue": "'str' object is not callable",
     "output_type": "error",
     "traceback": [
      "\u001b[1;31m---------------------------------------------------------------------------\u001b[0m",
      "\u001b[1;31mTypeError\u001b[0m                                 Traceback (most recent call last)",
      "Input \u001b[1;32mIn [2]\u001b[0m, in \u001b[0;36m<cell line: 1>\u001b[1;34m()\u001b[0m\n\u001b[1;32m----> 1\u001b[0m \u001b[38;5;28;43mprint\u001b[39;49m\u001b[43m(\u001b[49m\u001b[38;5;124;43m\"\u001b[39;49m\u001b[38;5;124;43mtexto\u001b[39;49m\u001b[38;5;124;43m\"\u001b[39;49m\u001b[43m)\u001b[49m\n",
      "\u001b[1;31mTypeError\u001b[0m: 'str' object is not callable"
     ]
    }
   ],
   "source": [
    "print(\"texto\")"
   ]
  },
  {
   "cell_type": "code",
   "execution_count": null,
   "id": "d504eed4",
   "metadata": {},
   "outputs": [],
   "source": []
  }
 ],
 "metadata": {
  "kernelspec": {
   "display_name": "Python 3 (ipykernel)",
   "language": "python",
   "name": "python3"
  },
  "language_info": {
   "codemirror_mode": {
    "name": "ipython",
    "version": 3
   },
   "file_extension": ".py",
   "mimetype": "text/x-python",
   "name": "python",
   "nbconvert_exporter": "python",
   "pygments_lexer": "ipython3",
   "version": "3.9.12"
  }
 },
 "nbformat": 4,
 "nbformat_minor": 5
}

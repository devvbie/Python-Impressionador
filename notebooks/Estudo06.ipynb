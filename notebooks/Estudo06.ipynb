{
 "cells": [
  {
   "cell_type": "markdown",
   "id": "f0a06180",
   "metadata": {},
   "source": [
    "# Formatação\n",
    "- alinhar\n",
    "- edição de sinal\n",
    "- separador de milhar\n",
    "- casas decimais fixas\n",
    "- formato percentual\n",
    "- formato de moeda\n",
    "- round()"
   ]
  },
  {
   "cell_type": "code",
   "execution_count": 4,
   "id": "adf6a5c3",
   "metadata": {},
   "outputs": [
    {
     "name": "stdout",
     "output_type": "stream",
     "text": [
      "minha frase favorita é: vazio agudo, ando meio cheio de tudo                        . É do autor Leminski\n",
      "minha frase favorita é:             vazio agudo, ando meio cheio de tudo            . É do autor Leminski\n"
     ]
    }
   ],
   "source": [
    "frase = \"vazio agudo, ando meio cheio de tudo\"\n",
    "print(\"minha frase favorita é: {:<60}. É do autor Leminski\".format(frase))\n",
    "print(\"minha frase favorita é: {:^60}. É do autor Leminski\".format(frase))"
   ]
  },
  {
   "cell_type": "code",
   "execution_count": 7,
   "id": "fb221704",
   "metadata": {},
   "outputs": [
    {
     "name": "stdout",
     "output_type": "stream",
     "text": [
      "A vale +5. B vale 7. C vale -5\n"
     ]
    }
   ],
   "source": [
    "a = 5\n",
    "b = 7\n",
    "c = -5\n",
    "print(\"A vale {:+}. B vale {:-}. C vale {:-}\".format(a, b, c))"
   ]
  },
  {
   "cell_type": "code",
   "execution_count": 10,
   "id": "cbf698bd",
   "metadata": {},
   "outputs": [
    {
     "name": "stdout",
     "output_type": "stream",
     "text": [
      "A vale 5,000. B vale 7,000. C vale -5,000\n"
     ]
    }
   ],
   "source": [
    "a = 5000\n",
    "b = 7000\n",
    "c = -5000\n",
    "print(\"A vale {:,}. B vale {:,}. C vale {:,}\".format(a, b, c))"
   ]
  },
  {
   "cell_type": "code",
   "execution_count": 11,
   "id": "68be61b8",
   "metadata": {},
   "outputs": [
    {
     "name": "stdout",
     "output_type": "stream",
     "text": [
      "o número pi vale 3.14 e a gravidade 9.8\n"
     ]
    }
   ],
   "source": [
    "pi = 3.14159265359 \n",
    "g = 9.807\n",
    "print(\"o número pi vale {:.2f} e a gravidade {:.1f}\".format(pi, g))"
   ]
  },
  {
   "cell_type": "code",
   "execution_count": 16,
   "id": "9f8d3516",
   "metadata": {},
   "outputs": [
    {
     "name": "stdout",
     "output_type": "stream",
     "text": [
      "evasão é de cerca de 99% e formandos 100.0%\n"
     ]
    }
   ],
   "source": [
    "evasao = 0.99 \n",
    "formandos = 1\n",
    "print(\"evasão é de cerca de {:.0%} e formandos {:.1%}\".format(evasao, formandos))"
   ]
  },
  {
   "cell_type": "code",
   "execution_count": 17,
   "id": "06c702a9",
   "metadata": {},
   "outputs": [
    {
     "name": "stdout",
     "output_type": "stream",
     "text": [
      "C vale R$2.000,00\n"
     ]
    }
   ],
   "source": [
    "a = 5000\n",
    "b = 7000\n",
    "c = 2000\n",
    "\n",
    "d = 'R${:_.2f}'.format(c)\n",
    "d = d.replace('.', ',')\n",
    "d = d.replace('_', '.')\n",
    "print(\"C vale {}\".format(d))"
   ]
  },
  {
   "cell_type": "code",
   "execution_count": 19,
   "id": "0ae0c69d",
   "metadata": {},
   "outputs": [
    {
     "name": "stdout",
     "output_type": "stream",
     "text": [
      "o número pi vale 3 e a gravidade 10\n"
     ]
    }
   ],
   "source": [
    "pi = 3.14159265359 \n",
    "g = 9.807\n",
    "print(\"o número pi vale {} e a gravidade {}\".format(round(pi), round(g)))"
   ]
  },
  {
   "cell_type": "code",
   "execution_count": null,
   "id": "38fb509d",
   "metadata": {},
   "outputs": [],
   "source": []
  }
 ],
 "metadata": {
  "kernelspec": {
   "display_name": "Python 3 (ipykernel)",
   "language": "python",
   "name": "python3"
  },
  "language_info": {
   "codemirror_mode": {
    "name": "ipython",
    "version": 3
   },
   "file_extension": ".py",
   "mimetype": "text/x-python",
   "name": "python",
   "nbconvert_exporter": "python",
   "pygments_lexer": "ipython3",
   "version": "3.9.12"
  }
 },
 "nbformat": 4,
 "nbformat_minor": 5
}

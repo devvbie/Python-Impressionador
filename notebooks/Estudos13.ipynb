{
 "cells": [
  {
   "cell_type": "markdown",
   "id": "c5bf7a29",
   "metadata": {},
   "source": [
    "# Tuplas\n",
    " - parece com uma lista porém é imutável<br>\n",
    "\n",
    " tupla = (a, b, c)<br>\n",
    " <br>\n",
    " - mais eficiente em perfomance<br>\n",
    " - protege a base de dados<br>\n",
    " - muito usada para dados heterogêneos<br>"
   ]
  },
  {
   "cell_type": "code",
   "execution_count": 8,
   "id": "bf76fa5d",
   "metadata": {},
   "outputs": [
    {
     "name": "stdout",
     "output_type": "stream",
     "text": [
      "('a', 'e', 'i', 'o', 'u')\n",
      "u\n",
      "a\n",
      "i\n"
     ]
    }
   ],
   "source": [
    "vogais = ('a', 'e', 'i', 'o', 'u')\n",
    "print(vogais)\n",
    "print(vogais[4])\n",
    "print(vogais[0])\n",
    "print(vogais[2])"
   ]
  },
  {
   "cell_type": "code",
   "execution_count": 7,
   "id": "df86d8d9",
   "metadata": {},
   "outputs": [
    {
     "name": "stdout",
     "output_type": "stream",
     "text": [
      "('a', 'e', 'i', 'o', 'u')\n",
      "u\n",
      "a\n",
      "i\n"
     ]
    },
    {
     "ename": "TypeError",
     "evalue": "'tuple' object does not support item assignment",
     "output_type": "error",
     "traceback": [
      "\u001b[1;31m---------------------------------------------------------------------------\u001b[0m",
      "\u001b[1;31mTypeError\u001b[0m                                 Traceback (most recent call last)",
      "Input \u001b[1;32mIn [7]\u001b[0m, in \u001b[0;36m<cell line: 6>\u001b[1;34m()\u001b[0m\n\u001b[0;32m      4\u001b[0m \u001b[38;5;28mprint\u001b[39m(vogais[\u001b[38;5;241m0\u001b[39m])\n\u001b[0;32m      5\u001b[0m \u001b[38;5;28mprint\u001b[39m(vogais[\u001b[38;5;241m2\u001b[39m])\n\u001b[1;32m----> 6\u001b[0m vogais[\u001b[38;5;241m4\u001b[39m] \u001b[38;5;241m=\u001b[39m \u001b[38;5;124m'\u001b[39m\u001b[38;5;124mb\u001b[39m\u001b[38;5;124m'\u001b[39m\n",
      "\u001b[1;31mTypeError\u001b[0m: 'tuple' object does not support item assignment"
     ]
    }
   ],
   "source": [
    "vogais = ('a', 'e', 'i', 'o', 'u')\n",
    "print(vogais)\n",
    "print(vogais[4])\n",
    "print(vogais[0])\n",
    "print(vogais[2])\n",
    "vogais[4] = 'b'"
   ]
  },
  {
   "cell_type": "code",
   "execution_count": 9,
   "id": "7033536f",
   "metadata": {},
   "outputs": [
    {
     "name": "stdout",
     "output_type": "stream",
     "text": [
      "('a', 'e', 'i', 'o', 'u')\n",
      "u\n",
      "a\n",
      "i\n"
     ]
    },
    {
     "ename": "AttributeError",
     "evalue": "'tuple' object has no attribute 'append'",
     "output_type": "error",
     "traceback": [
      "\u001b[1;31m---------------------------------------------------------------------------\u001b[0m",
      "\u001b[1;31mAttributeError\u001b[0m                            Traceback (most recent call last)",
      "Input \u001b[1;32mIn [9]\u001b[0m, in \u001b[0;36m<cell line: 6>\u001b[1;34m()\u001b[0m\n\u001b[0;32m      4\u001b[0m \u001b[38;5;28mprint\u001b[39m(vogais[\u001b[38;5;241m0\u001b[39m])\n\u001b[0;32m      5\u001b[0m \u001b[38;5;28mprint\u001b[39m(vogais[\u001b[38;5;241m2\u001b[39m])\n\u001b[1;32m----> 6\u001b[0m \u001b[43mvogais\u001b[49m\u001b[38;5;241;43m.\u001b[39;49m\u001b[43mappend\u001b[49m(\u001b[38;5;124m'\u001b[39m\u001b[38;5;124mb\u001b[39m\u001b[38;5;124m'\u001b[39m)\n",
      "\u001b[1;31mAttributeError\u001b[0m: 'tuple' object has no attribute 'append'"
     ]
    }
   ],
   "source": [
    "vogais = ('a', 'e', 'i', 'o', 'u')\n",
    "print(vogais)\n",
    "print(vogais[4])\n",
    "print(vogais[0])\n",
    "print(vogais[2])\n",
    "vogais.append('b')"
   ]
  },
  {
   "cell_type": "code",
   "execution_count": 12,
   "id": "37ab1863",
   "metadata": {},
   "outputs": [
    {
     "name": "stdout",
     "output_type": "stream",
     "text": [
      "a\n",
      "u\n"
     ]
    }
   ],
   "source": [
    "vogais = ('a', 'e', 'i', 'o', 'u')\n",
    "primeira, segunda, terceira, quarta, quinta = vogais\n",
    "print(primeira)\n",
    "print(quinta)"
   ]
  },
  {
   "cell_type": "markdown",
   "id": "043d9112",
   "metadata": {},
   "source": [
    "# lista de tuplas\n"
   ]
  },
  {
   "cell_type": "code",
   "execution_count": 16,
   "id": "6b12518d",
   "metadata": {},
   "outputs": [
    {
     "name": "stdout",
     "output_type": "stream",
     "text": [
      "[('26/10', 'iphone 6s', 'dourado', '64gb'), ('05/10', 'lapis', '2B', 'pequeno')]\n"
     ]
    }
   ],
   "source": [
    "vendas = [\n",
    "    ('26/10', 'iphone 6s', 'dourado', '64gb'),\n",
    "    ('05/10', 'lapis', '2B', 'pequeno')\n",
    "]\n",
    "\n",
    "print(vendas)"
   ]
  },
  {
   "cell_type": "code",
   "execution_count": null,
   "id": "dcefae55",
   "metadata": {},
   "outputs": [],
   "source": []
  }
 ],
 "metadata": {
  "kernelspec": {
   "display_name": "Python 3 (ipykernel)",
   "language": "python",
   "name": "python3"
  },
  "language_info": {
   "codemirror_mode": {
    "name": "ipython",
    "version": 3
   },
   "file_extension": ".py",
   "mimetype": "text/x-python",
   "name": "python",
   "nbconvert_exporter": "python",
   "pygments_lexer": "ipython3",
   "version": "3.9.12"
  }
 },
 "nbformat": 4,
 "nbformat_minor": 5
}

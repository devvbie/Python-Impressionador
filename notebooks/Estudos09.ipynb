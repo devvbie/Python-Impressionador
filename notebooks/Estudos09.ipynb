{
 "cells": [
  {
   "cell_type": "markdown",
   "id": "0b89ca58",
   "metadata": {},
   "source": [
    "# Laços: estruturas de repetição\n",
    "\n",
    "for i in range(n):\n",
    "    repetir codigo n vezes"
   ]
  },
  {
   "cell_type": "code",
   "execution_count": 1,
   "id": "b3ed614a",
   "metadata": {},
   "outputs": [
    {
     "name": "stdout",
     "output_type": "stream",
     "text": [
      "0\n",
      "1\n",
      "2\n",
      "3\n",
      "4\n",
      "5\n",
      "6\n",
      "7\n",
      "8\n",
      "9\n"
     ]
    }
   ],
   "source": [
    "for i in range(10):\n",
    "    print(i)"
   ]
  },
  {
   "cell_type": "code",
   "execution_count": 5,
   "id": "fe527afd",
   "metadata": {},
   "outputs": [
    {
     "name": "stdout",
     "output_type": "stream",
     "text": [
      "produto pedra tem 0 itens\n",
      "produto papel tem 5 itens\n",
      "produto tesoura tem 2 itens\n"
     ]
    }
   ],
   "source": [
    "produtos = ['pedra', 'papel', 'tesoura']\n",
    "qtd = [0, 5, 2]\n",
    "\n",
    "for i in range(3):\n",
    "    print(\"produto {} tem {} itens\".format(produtos[i], qtd[i]))"
   ]
  },
  {
   "cell_type": "code",
   "execution_count": 7,
   "id": "011fa9ef",
   "metadata": {},
   "outputs": [
    {
     "name": "stdout",
     "output_type": "stream",
     "text": [
      "pedra\n",
      "papel\n",
      "tesoura\n",
      "p\n",
      "e\n",
      "r\n",
      "d\n",
      "i\n"
     ]
    }
   ],
   "source": [
    "produtos = ['pedra', 'papel', 'tesoura']\n",
    "\n",
    "for item in produtos:\n",
    "    print(item)\n",
    "\n",
    "frase = 'perdi'\n",
    "\n",
    "for ch in frase:\n",
    "    print(ch)"
   ]
  },
  {
   "cell_type": "code",
   "execution_count": 9,
   "id": "f14a678e",
   "metadata": {},
   "outputs": [
    {
     "name": "stdout",
     "output_type": "stream",
     "text": [
      "0 é par\n",
      "1 é impar\n",
      "2 é par\n",
      "3 é impar\n",
      "4 é par\n",
      "5 é impar\n",
      "6 é par\n",
      "7 é impar\n",
      "8 é par\n",
      "9 é impar\n"
     ]
    }
   ],
   "source": [
    "for i in range(10):\n",
    "    if i%2 == 0:\n",
    "        print(\"{} é par\".format(i))\n",
    "    else:\n",
    "        print(\"{} é impar\".format(i))        "
   ]
  },
  {
   "cell_type": "code",
   "execution_count": 11,
   "id": "72421d22",
   "metadata": {},
   "outputs": [
    {
     "name": "stdout",
     "output_type": "stream",
     "text": [
      "0 pedra\n",
      "1 papel\n",
      "2 tesoura\n"
     ]
    }
   ],
   "source": [
    "produtos = ['pedra', 'papel', 'tesoura']\n",
    "\n",
    "for i, produto in enumerate(produtos):\n",
    "    print(\"{} {}\".format(i, produto))"
   ]
  },
  {
   "cell_type": "code",
   "execution_count": null,
   "id": "c4a399e1",
   "metadata": {},
   "outputs": [],
   "source": []
  }
 ],
 "metadata": {
  "kernelspec": {
   "display_name": "Python 3 (ipykernel)",
   "language": "python",
   "name": "python3"
  },
  "language_info": {
   "codemirror_mode": {
    "name": "ipython",
    "version": 3
   },
   "file_extension": ".py",
   "mimetype": "text/x-python",
   "name": "python",
   "nbconvert_exporter": "python",
   "pygments_lexer": "ipython3",
   "version": "3.9.12"
  }
 },
 "nbformat": 4,
 "nbformat_minor": 5
}

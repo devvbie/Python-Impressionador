{
 "cells": [
  {
   "cell_type": "markdown",
   "id": "f1f74101",
   "metadata": {},
   "source": [
    "# Exemplos de parâmetros\n",
    "- upper() não tem parametros\n",
    "- sort() apenas parametros keyword\n",
    "- extend(lista) -> 1 parametro obrigatorio\n",
    "- etc\n",
    "\n",
    "shift + tab para ver os parametros necessários\n"
   ]
  },
  {
   "cell_type": "markdown",
   "id": "74ea7954",
   "metadata": {},
   "source": [
    "# Valores padrões para os argumentos"
   ]
  },
  {
   "cell_type": "code",
   "execution_count": null,
   "id": "d6e14b54",
   "metadata": {},
   "outputs": [],
   "source": [
    "def minha_funcao(argumento = valor_padrao):\n",
    "    ...\n",
    "    return ..."
   ]
  },
  {
   "cell_type": "code",
   "execution_count": 6,
   "id": "af066dca",
   "metadata": {},
   "outputs": [
    {
     "name": "stdout",
     "output_type": "stream",
     "text": [
      "['abc12', 'abc34', 'abc37']\n"
     ]
    }
   ],
   "source": [
    "def padronizar(lista, padrao='m'):\n",
    "    for i, item in enumerate(lista):\n",
    "        item = item.replace(\"  \", \" \")\n",
    "        item = item.strip()\n",
    "        if padrao == 'm':\n",
    "            item = item.casefold()\n",
    "        elif padrao == 'M':\n",
    "            item = item.lower()\n",
    "        lista[i] = item\n",
    "    return lista\n",
    "\n",
    "cod_produtos = [' ABC12 ', 'abc34', 'Abc37']\n",
    "print(padronizar(cod_produtos))"
   ]
  },
  {
   "cell_type": "markdown",
   "id": "02e237f3",
   "metadata": {},
   "source": [
    "# return \n",
    "- return pode retornar praticamente qualquer tipo de objeto (numero, string, lista, tupla, dicionario, outros objetos, etc)\n",
    "- se o return é executado, a função ACABA!"
   ]
  },
  {
   "cell_type": "code",
   "execution_count": 13,
   "id": "0b2c7e34",
   "metadata": {},
   "outputs": [
    {
     "name": "stdout",
     "output_type": "stream",
     "text": [
      "par\n",
      "impar\n"
     ]
    }
   ],
   "source": [
    "def teste(a):\n",
    "    if a%2==0:\n",
    "        return print(\"par\")\n",
    "    else:\n",
    "        return print(\"impar\")\n",
    "    \n",
    "    print(\"fim\")    \n",
    "\n",
    "teste(2)\n",
    "teste(3)"
   ]
  },
  {
   "cell_type": "code",
   "execution_count": null,
   "id": "7e381498",
   "metadata": {},
   "outputs": [],
   "source": []
  }
 ],
 "metadata": {
  "kernelspec": {
   "display_name": "Python 3 (ipykernel)",
   "language": "python",
   "name": "python3"
  },
  "language_info": {
   "codemirror_mode": {
    "name": "ipython",
    "version": 3
   },
   "file_extension": ".py",
   "mimetype": "text/x-python",
   "name": "python",
   "nbconvert_exporter": "python",
   "pygments_lexer": "ipython3",
   "version": "3.9.12"
  }
 },
 "nbformat": 4,
 "nbformat_minor": 5
}

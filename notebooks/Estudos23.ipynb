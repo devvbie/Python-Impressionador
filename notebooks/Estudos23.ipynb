{
 "cells": [
  {
   "cell_type": "markdown",
   "id": "f13efb70",
   "metadata": {},
   "source": [
    "# O que falta aprender agora?\n",
    "- Orientação a objetos: classes, métodos, etc\n",
    "- jeitos mais avançados de fazer algumas coisas: list comprehensions, lambda expressions, estrutura with\n",
    "- acostumar com módulos"
   ]
  },
  {
   "cell_type": "code",
   "execution_count": null,
   "id": "cd321115",
   "metadata": {},
   "outputs": [],
   "source": []
  }
 ],
 "metadata": {
  "kernelspec": {
   "display_name": "Python 3 (ipykernel)",
   "language": "python",
   "name": "python3"
  },
  "language_info": {
   "codemirror_mode": {
    "name": "ipython",
    "version": 3
   },
   "file_extension": ".py",
   "mimetype": "text/x-python",
   "name": "python",
   "nbconvert_exporter": "python",
   "pygments_lexer": "ipython3",
   "version": "3.9.12"
  }
 },
 "nbformat": 4,
 "nbformat_minor": 5
}

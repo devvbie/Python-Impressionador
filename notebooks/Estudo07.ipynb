{
 "cells": [
  {
   "cell_type": "markdown",
   "id": "40d282d0",
   "metadata": {},
   "source": [
    "# Listas\n",
    "- é um objeto\n"
   ]
  },
  {
   "cell_type": "code",
   "execution_count": 6,
   "id": "720d0458",
   "metadata": {},
   "outputs": [
    {
     "name": "stdout",
     "output_type": "stream",
     "text": [
      "['tomate', 'banana', 'livro']\n",
      "['livro', 'tv', 'celular']\n",
      "tomate\n",
      "['alface', 'banana', 'livro']\n",
      "f\n"
     ]
    }
   ],
   "source": [
    "a = 'banana'\n",
    "lista = ['tomate', a, 'livro']\n",
    "produtos = ['livro', \n",
    "           'tv', \n",
    "            'celular']\n",
    "print(lista)\n",
    "print(produtos)\n",
    "print(lista[0])\n",
    "lista[0] = 'alface'\n",
    "print(lista)\n",
    "print(lista[0][2])"
   ]
  },
  {
   "cell_type": "code",
   "execution_count": 7,
   "id": "13b08aeb",
   "metadata": {},
   "outputs": [
    {
     "name": "stdout",
     "output_type": "stream",
     "text": [
      "python\n"
     ]
    },
    {
     "ename": "TypeError",
     "evalue": "'str' object does not support item assignment",
     "output_type": "error",
     "traceback": [
      "\u001b[1;31m---------------------------------------------------------------------------\u001b[0m",
      "\u001b[1;31mTypeError\u001b[0m                                 Traceback (most recent call last)",
      "Input \u001b[1;32mIn [7]\u001b[0m, in \u001b[0;36m<cell line: 3>\u001b[1;34m()\u001b[0m\n\u001b[0;32m      1\u001b[0m texto \u001b[38;5;241m=\u001b[39m \u001b[38;5;124m'\u001b[39m\u001b[38;5;124mpython\u001b[39m\u001b[38;5;124m'\u001b[39m\n\u001b[0;32m      2\u001b[0m \u001b[38;5;28mprint\u001b[39m(texto)\n\u001b[1;32m----> 3\u001b[0m texto[\u001b[38;5;241m1\u001b[39m] \u001b[38;5;241m=\u001b[39m \u001b[38;5;124m'\u001b[39m\u001b[38;5;124mw\u001b[39m\u001b[38;5;124m'\u001b[39m\n\u001b[0;32m      4\u001b[0m \u001b[38;5;28mprint\u001b[39m(texto)\n",
      "\u001b[1;31mTypeError\u001b[0m: 'str' object does not support item assignment"
     ]
    }
   ],
   "source": [
    "texto = 'python'\n",
    "print(texto)\n",
    "texto[1] = 'w'\n",
    "print(texto)"
   ]
  },
  {
   "cell_type": "code",
   "execution_count": 9,
   "id": "0ab35503",
   "metadata": {},
   "outputs": [
    {
     "name": "stdout",
     "output_type": "stream",
     "text": [
      "99\n"
     ]
    }
   ],
   "source": [
    "produtos = ['tomate', 'bateria', 'livro']\n",
    "vendas = [87, 99, 130]\n",
    "\n",
    "print(vendas[produtos.index('bateria')])"
   ]
  },
  {
   "cell_type": "code",
   "execution_count": 12,
   "id": "f072b7cf",
   "metadata": {},
   "outputs": [
    {
     "name": "stdout",
     "output_type": "stream",
     "text": [
      "Insira o produto desejado: gaga\n"
     ]
    },
    {
     "ename": "ValueError",
     "evalue": "'gaga' is not in list",
     "output_type": "error",
     "traceback": [
      "\u001b[1;31m---------------------------------------------------------------------------\u001b[0m",
      "\u001b[1;31mValueError\u001b[0m                                Traceback (most recent call last)",
      "Input \u001b[1;32mIn [12]\u001b[0m, in \u001b[0;36m<cell line: 5>\u001b[1;34m()\u001b[0m\n\u001b[0;32m      2\u001b[0m valor \u001b[38;5;241m=\u001b[39m [\u001b[38;5;241m87\u001b[39m, \u001b[38;5;241m99\u001b[39m, \u001b[38;5;241m130\u001b[39m]\n\u001b[0;32m      3\u001b[0m teste \u001b[38;5;241m=\u001b[39m \u001b[38;5;28minput\u001b[39m(\u001b[38;5;124m\"\u001b[39m\u001b[38;5;124mInsira o produto desejado: \u001b[39m\u001b[38;5;124m\"\u001b[39m)\n\u001b[1;32m----> 5\u001b[0m \u001b[38;5;28mprint\u001b[39m(valor[\u001b[43mprodutos\u001b[49m\u001b[38;5;241;43m.\u001b[39;49m\u001b[43mindex\u001b[49m\u001b[43m(\u001b[49m\u001b[43mteste\u001b[49m\u001b[43m)\u001b[49m])\n",
      "\u001b[1;31mValueError\u001b[0m: 'gaga' is not in list"
     ]
    }
   ],
   "source": [
    "produtos = ['tomate', 'bateria', 'livro']\n",
    "valor = [87, 99, 130]\n",
    "teste = input(\"Insira o produto desejado: \")\n",
    "\n",
    "print(valor[produtos.index(teste)])"
   ]
  },
  {
   "cell_type": "code",
   "execution_count": 13,
   "id": "f2711019",
   "metadata": {},
   "outputs": [
    {
     "name": "stdout",
     "output_type": "stream",
     "text": [
      "Insira o produto desejado: gaga\n",
      "não existe\n"
     ]
    }
   ],
   "source": [
    "produtos = ['tomate', 'bateria', 'livro']\n",
    "valor = [87, 99, 130]\n",
    "teste = input(\"Insira o produto desejado: \")\n",
    "if teste in produtos:\n",
    "    print(valor[produtos.index(teste)])\n",
    "else:\n",
    "    print(\"não existe\")"
   ]
  },
  {
   "cell_type": "code",
   "execution_count": null,
   "id": "9b266ca0",
   "metadata": {},
   "outputs": [],
   "source": []
  }
 ],
 "metadata": {
  "kernelspec": {
   "display_name": "Python 3 (ipykernel)",
   "language": "python",
   "name": "python3"
  },
  "language_info": {
   "codemirror_mode": {
    "name": "ipython",
    "version": 3
   },
   "file_extension": ".py",
   "mimetype": "text/x-python",
   "name": "python",
   "nbconvert_exporter": "python",
   "pygments_lexer": "ipython3",
   "version": "3.9.12"
  }
 },
 "nbformat": 4,
 "nbformat_minor": 5
}

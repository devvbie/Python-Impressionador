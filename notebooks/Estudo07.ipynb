{
 "cells": [
  {
   "cell_type": "markdown",
   "id": "d2dacf96",
   "metadata": {},
   "source": [
    "# Listas\n",
    "- é um objeto\n"
   ]
  },
  {
   "cell_type": "code",
   "execution_count": 6,
   "id": "f64e68dc",
   "metadata": {},
   "outputs": [
    {
     "name": "stdout",
     "output_type": "stream",
     "text": [
      "['tomate', 'banana', 'livro']\n",
      "['livro', 'tv', 'celular']\n",
      "tomate\n",
      "['alface', 'banana', 'livro']\n",
      "f\n"
     ]
    }
   ],
   "source": [
    "a = 'banana'\n",
    "lista = ['tomate', a, 'livro']\n",
    "produtos = ['livro', \n",
    "           'tv', \n",
    "            'celular']\n",
    "print(lista)\n",
    "print(produtos)\n",
    "print(lista[0])\n",
    "lista[0] = 'alface'\n",
    "print(lista)\n",
    "print(lista[0][2])"
   ]
  },
  {
   "cell_type": "code",
   "execution_count": 7,
   "id": "8d3fc65e",
   "metadata": {},
   "outputs": [
    {
     "name": "stdout",
     "output_type": "stream",
     "text": [
      "python\n"
     ]
    },
    {
     "ename": "TypeError",
     "evalue": "'str' object does not support item assignment",
     "output_type": "error",
     "traceback": [
      "\u001b[1;31m---------------------------------------------------------------------------\u001b[0m",
      "\u001b[1;31mTypeError\u001b[0m                                 Traceback (most recent call last)",
      "Input \u001b[1;32mIn [7]\u001b[0m, in \u001b[0;36m<cell line: 3>\u001b[1;34m()\u001b[0m\n\u001b[0;32m      1\u001b[0m texto \u001b[38;5;241m=\u001b[39m \u001b[38;5;124m'\u001b[39m\u001b[38;5;124mpython\u001b[39m\u001b[38;5;124m'\u001b[39m\n\u001b[0;32m      2\u001b[0m \u001b[38;5;28mprint\u001b[39m(texto)\n\u001b[1;32m----> 3\u001b[0m texto[\u001b[38;5;241m1\u001b[39m] \u001b[38;5;241m=\u001b[39m \u001b[38;5;124m'\u001b[39m\u001b[38;5;124mw\u001b[39m\u001b[38;5;124m'\u001b[39m\n\u001b[0;32m      4\u001b[0m \u001b[38;5;28mprint\u001b[39m(texto)\n",
      "\u001b[1;31mTypeError\u001b[0m: 'str' object does not support item assignment"
     ]
    }
   ],
   "source": [
    "texto = 'python'\n",
    "print(texto)\n",
    "texto[1] = 'w'\n",
    "print(texto)"
   ]
  },
  {
   "cell_type": "code",
   "execution_count": 9,
   "id": "029f7f09",
   "metadata": {},
   "outputs": [
    {
     "name": "stdout",
     "output_type": "stream",
     "text": [
      "99\n"
     ]
    }
   ],
   "source": [
    "produtos = ['tomate', 'bateria', 'livro']\n",
    "vendas = [87, 99, 130]\n",
    "\n",
    "print(vendas[produtos.index('bateria')])"
   ]
  },
  {
   "cell_type": "code",
   "execution_count": 14,
   "id": "90c6ddf6",
   "metadata": {},
   "outputs": [
    {
     "name": "stdout",
     "output_type": "stream",
     "text": [
      "Insira o produto desejado: bicicleta\n"
     ]
    },
    {
     "ename": "ValueError",
     "evalue": "'bicicleta' is not in list",
     "output_type": "error",
     "traceback": [
      "\u001b[1;31m---------------------------------------------------------------------------\u001b[0m",
      "\u001b[1;31mValueError\u001b[0m                                Traceback (most recent call last)",
      "Input \u001b[1;32mIn [14]\u001b[0m, in \u001b[0;36m<cell line: 5>\u001b[1;34m()\u001b[0m\n\u001b[0;32m      2\u001b[0m valor \u001b[38;5;241m=\u001b[39m [\u001b[38;5;241m87\u001b[39m, \u001b[38;5;241m99\u001b[39m, \u001b[38;5;241m130\u001b[39m]\n\u001b[0;32m      3\u001b[0m teste \u001b[38;5;241m=\u001b[39m \u001b[38;5;28minput\u001b[39m(\u001b[38;5;124m\"\u001b[39m\u001b[38;5;124mInsira o produto desejado: \u001b[39m\u001b[38;5;124m\"\u001b[39m)\n\u001b[1;32m----> 5\u001b[0m \u001b[38;5;28mprint\u001b[39m(valor[\u001b[43mprodutos\u001b[49m\u001b[38;5;241;43m.\u001b[39;49m\u001b[43mindex\u001b[49m\u001b[43m(\u001b[49m\u001b[43mteste\u001b[49m\u001b[43m)\u001b[49m])\n",
      "\u001b[1;31mValueError\u001b[0m: 'bicicleta' is not in list"
     ]
    }
   ],
   "source": [
    "produtos = ['tomate', 'bateria', 'livro']\n",
    "valor = [87, 99, 130]\n",
    "teste = input(\"Insira o produto desejado: \")\n",
    "\n",
    "print(valor[produtos.index(teste)])"
   ]
  },
  {
   "cell_type": "code",
   "execution_count": 15,
   "id": "f6e22dd0",
   "metadata": {},
   "outputs": [
    {
     "name": "stdout",
     "output_type": "stream",
     "text": [
      "Insira o produto desejado: bicicleta\n",
      "não existe\n"
     ]
    }
   ],
   "source": [
    "produtos = ['tomate', 'bateria', 'livro']\n",
    "valor = [87, 99, 130]\n",
    "teste = input(\"Insira o produto desejado: \")\n",
    "if teste in produtos:\n",
    "    print(valor[produtos.index(teste)])\n",
    "else:\n",
    "    print(\"não existe\")"
   ]
  },
  {
   "cell_type": "code",
   "execution_count": 17,
   "id": "e02e4965",
   "metadata": {},
   "outputs": [
    {
     "name": "stdout",
     "output_type": "stream",
     "text": [
      "Insira o produto desejado: bicicleta\n",
      "item recem adicionado e sem valor\n",
      "bateria\n"
     ]
    }
   ],
   "source": [
    "produtos = ['tomate', 'bateria', 'livro']\n",
    "valor = [87, 99, 130]\n",
    "teste = input(\"Insira o produto desejado: \")\n",
    "if teste in produtos:\n",
    "    print(valor[produtos.index(teste)])\n",
    "else:\n",
    "    produtos.append(teste)\n",
    "    print(\"item recem adicionado e sem valor\")\n",
    "    "
   ]
  },
  {
   "cell_type": "code",
   "execution_count": 27,
   "id": "86176c92",
   "metadata": {},
   "outputs": [
    {
     "name": "stdout",
     "output_type": "stream",
     "text": [
      "tomate\n",
      "bateria\n",
      "\n",
      "livro\n",
      "bicicleta\n",
      "livro\n"
     ]
    }
   ],
   "source": [
    "produtos = ['tomate', 'bateria', 'livro', 'bicicleta']\n",
    "print(produtos[0])\n",
    "produtos.remove('tomate')\n",
    "print(produtos[0])\n",
    "print()\n",
    "\n",
    "\n",
    "print(produtos[1])\n",
    "removido = produtos.pop(1)\n",
    "print(produtos[1])\n",
    "print(removido)"
   ]
  },
  {
   "cell_type": "code",
   "execution_count": 28,
   "id": "c77fbfb2",
   "metadata": {},
   "outputs": [
    {
     "ename": "ValueError",
     "evalue": "list.remove(x): x not in list",
     "output_type": "error",
     "traceback": [
      "\u001b[1;31m---------------------------------------------------------------------------\u001b[0m",
      "\u001b[1;31mValueError\u001b[0m                                Traceback (most recent call last)",
      "Input \u001b[1;32mIn [28]\u001b[0m, in \u001b[0;36m<cell line: 2>\u001b[1;34m()\u001b[0m\n\u001b[0;32m      1\u001b[0m produtos \u001b[38;5;241m=\u001b[39m [\u001b[38;5;124m'\u001b[39m\u001b[38;5;124mtomate\u001b[39m\u001b[38;5;124m'\u001b[39m, \u001b[38;5;124m'\u001b[39m\u001b[38;5;124mbateria\u001b[39m\u001b[38;5;124m'\u001b[39m, \u001b[38;5;124m'\u001b[39m\u001b[38;5;124mlivro\u001b[39m\u001b[38;5;124m'\u001b[39m, \u001b[38;5;124m'\u001b[39m\u001b[38;5;124mbicicleta\u001b[39m\u001b[38;5;124m'\u001b[39m]\n\u001b[1;32m----> 2\u001b[0m \u001b[43mprodutos\u001b[49m\u001b[38;5;241;43m.\u001b[39;49m\u001b[43mremove\u001b[49m\u001b[43m(\u001b[49m\u001b[38;5;124;43m'\u001b[39;49m\u001b[38;5;124;43mtomatoe\u001b[39;49m\u001b[38;5;124;43m'\u001b[39;49m\u001b[43m)\u001b[49m\n",
      "\u001b[1;31mValueError\u001b[0m: list.remove(x): x not in list"
     ]
    }
   ],
   "source": [
    "produtos = ['tomate', 'bateria', 'livro', 'bicicleta']\n",
    "produtos.remove('tomatoe')"
   ]
  },
  {
   "cell_type": "code",
   "execution_count": 29,
   "id": "e9c58a98",
   "metadata": {},
   "outputs": [
    {
     "name": "stdout",
     "output_type": "stream",
     "text": [
      "nao existe\n"
     ]
    }
   ],
   "source": [
    "produtos = ['tomate', 'bateria', 'livro', 'bicicleta']\n",
    "try:\n",
    "    produtos.remove(\"tomatoe\")\n",
    "except:\n",
    "    print(\"nao existe\")"
   ]
  },
  {
   "cell_type": "code",
   "execution_count": 32,
   "id": "9292e668",
   "metadata": {},
   "outputs": [
    {
     "name": "stdout",
     "output_type": "stream",
     "text": [
      "1\n"
     ]
    }
   ],
   "source": [
    "produtos = ['tomate', 'bateria', 'livro', 'bicicleta']\n",
    "try:\n",
    "    produtos.remove(\"tomatoe\")\n",
    "    print(produtos)\n",
    "except:\n",
    "    print(\"1\")\n",
    "    pass"
   ]
  },
  {
   "cell_type": "code",
   "execution_count": 37,
   "id": "68897122",
   "metadata": {},
   "outputs": [
    {
     "name": "stdout",
     "output_type": "stream",
     "text": [
      "6\n",
      "zebra\n",
      "bateria\n"
     ]
    }
   ],
   "source": [
    "produtos = ['tomate', 'bateria', 'livro', 'bicicleta', 'paralelepipedo', 'zebra']\n",
    "print(len(produtos))\n",
    "print(max(produtos))\n",
    "print(min(produtos))"
   ]
  },
  {
   "cell_type": "code",
   "execution_count": 39,
   "id": "bd43b476",
   "metadata": {},
   "outputs": [
    {
     "name": "stdout",
     "output_type": "stream",
     "text": [
      "['a', 'b', 'c']\n",
      "['a', 'b', 'c', 'd', 'e', 'f']\n"
     ]
    }
   ],
   "source": [
    "letras1 = ['a', 'b', 'c']\n",
    "letras2 = ['d', 'e', 'f']\n",
    "print(letras1)\n",
    "letras1.extend(letras2)\n",
    "print(letras1)\n"
   ]
  },
  {
   "cell_type": "code",
   "execution_count": 40,
   "id": "c964b112",
   "metadata": {},
   "outputs": [
    {
     "name": "stdout",
     "output_type": "stream",
     "text": [
      "['a', 'b', 'c']\n",
      "['a', 'b', 'c', 'd', 'e', 'f']\n"
     ]
    }
   ],
   "source": [
    "letras1 = ['a', 'b', 'c']\n",
    "letras2 = ['d', 'e', 'f']\n",
    "print(letras1)\n",
    "letras3 = letras1 + letras2\n",
    "print(letras3)"
   ]
  },
  {
   "cell_type": "code",
   "execution_count": 41,
   "id": "9b90aeb1",
   "metadata": {},
   "outputs": [
    {
     "name": "stdout",
     "output_type": "stream",
     "text": [
      "[1, 2]\n",
      "3\n",
      "[3]\n"
     ]
    }
   ],
   "source": [
    "print([1] + [2])\n",
    "print(1 + 2)\n",
    "print([1 + 2])"
   ]
  },
  {
   "cell_type": "code",
   "execution_count": 43,
   "id": "91129d32",
   "metadata": {},
   "outputs": [
    {
     "name": "stdout",
     "output_type": "stream",
     "text": [
      "['tomate', 'bateria', 'livro', 'bicicleta', 'paralelepipedo', 'zebra']\n",
      "['bateria', 'bicicleta', 'livro', 'paralelepipedo', 'tomate', 'zebra']\n",
      "['zebra', 'tomate', 'paralelepipedo', 'livro', 'bicicleta', 'bateria']\n"
     ]
    }
   ],
   "source": [
    "produtos = ['tomate', 'bateria', 'livro', 'bicicleta', 'paralelepipedo', 'zebra']\n",
    "print(produtos)\n",
    "produtos.sort()\n",
    "print(produtos)\n",
    "produtos.sort(reverse =  True)\n",
    "print(produtos)"
   ]
  },
  {
   "cell_type": "code",
   "execution_count": 48,
   "id": "4f0f1117",
   "metadata": {},
   "outputs": [
    {
     "name": "stdout",
     "output_type": "stream",
     "text": [
      "['tomate', 'bateria', 'livro', 'bicicleta', 'paralelepipedo', 'zebra']\n",
      "tomate\n",
      "bateria\n",
      "livro\n",
      "bicicleta\n",
      "paralelepipedo\n",
      "zebra\n"
     ]
    }
   ],
   "source": [
    "produtos = ['tomate', 'bateria', 'livro', 'bicicleta', 'paralelepipedo', 'zebra']\n",
    "print(produtos)\n",
    "print('\\n'.join(produtos))"
   ]
  },
  {
   "cell_type": "code",
   "execution_count": 51,
   "id": "32bbb340",
   "metadata": {},
   "outputs": [
    {
     "name": "stdout",
     "output_type": "stream",
     "text": [
      "tomate, bateria, livros, bicicleta, paralelepipedo, zebra\n",
      "['tomate', 'bateria', 'livros', 'bicicleta', 'paralelepipedo', 'zebra']\n"
     ]
    }
   ],
   "source": [
    "produtos = \"tomate, bateria, livros, bicicleta, paralelepipedo, zebra\"\n",
    "print(produtos)\n",
    "produtos = produtos.split(\", \")\n",
    "print(produtos)"
   ]
  },
  {
   "cell_type": "code",
   "execution_count": null,
   "id": "ffb5fa17",
   "metadata": {},
   "outputs": [],
   "source": []
  }
 ],
 "metadata": {
  "kernelspec": {
   "display_name": "Python 3 (ipykernel)",
   "language": "python",
   "name": "python3"
  },
  "language_info": {
   "codemirror_mode": {
    "name": "ipython",
    "version": 3
   },
   "file_extension": ".py",
   "mimetype": "text/x-python",
   "name": "python",
   "nbconvert_exporter": "python",
   "pygments_lexer": "ipython3",
   "version": "3.9.12"
  }
 },
 "nbformat": 4,
 "nbformat_minor": 5
}

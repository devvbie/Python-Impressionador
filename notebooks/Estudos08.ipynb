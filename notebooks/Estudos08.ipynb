{
 "cells": [
  {
   "cell_type": "markdown",
   "id": "7393a372",
   "metadata": {},
   "source": [
    "# Alterações incrementais de variáveis\n",
    "\n",
    "a = a + b\n",
    "ou\n",
    "a += b"
   ]
  },
  {
   "cell_type": "code",
   "execution_count": 8,
   "id": "1fddfaac",
   "metadata": {},
   "outputs": [
    {
     "name": "stdout",
     "output_type": "stream",
     "text": [
      "['capitulo 1', 'capitulo 2']\n",
      "['capitulo 1', 'capitulo 2', 'capitulo 3']\n",
      "5\n",
      "6\n",
      "preciso estudar muito\n",
      "preciso estudar muito até que voltem as aulas\n"
     ]
    }
   ],
   "source": [
    "lista = ['capitulo 1', 'capitulo 2']\n",
    "print(lista)\n",
    "lista = lista + ['capitulo 3']\n",
    "print(lista)\n",
    "\n",
    "a = 5\n",
    "print(a)\n",
    "a += 1\n",
    "print(a)\n",
    "\n",
    "frase = 'preciso estudar muito'\n",
    "print(frase)\n",
    "frase += ' até que voltem as aulas'\n",
    "print(frase)"
   ]
  },
  {
   "cell_type": "markdown",
   "id": "1f5106fb",
   "metadata": {},
   "source": [
    "# Copia e igualdade entre listas"
   ]
  },
  {
   "cell_type": "code",
   "execution_count": 14,
   "id": "df804c6f",
   "metadata": {},
   "outputs": [
    {
     "name": "stdout",
     "output_type": "stream",
     "text": [
      "['ipad', 'iphone 11', 'apple tv']\n",
      "['ipad', 'iphone 11', 'apple tv']\n"
     ]
    }
   ],
   "source": [
    "lista_1 = ['ipad', 'iphone x', 'apple tv']\n",
    "lista_2 = lista_1\n",
    "\n",
    "lista_1[1] = 'iphone 11'\n",
    "\n",
    "print(lista_1)\n",
    "print(lista_2)\n"
   ]
  },
  {
   "cell_type": "code",
   "execution_count": 19,
   "id": "2c3df78c",
   "metadata": {},
   "outputs": [
    {
     "name": "stdout",
     "output_type": "stream",
     "text": [
      "['ipad', 'iphone 11', 'apple tv']\n",
      "['ipad', 'iphone x', 'apple tv']\n"
     ]
    }
   ],
   "source": [
    "lista_1 = ['ipad', 'iphone x', 'apple tv']\n",
    "lista_2 = lista_1.copy()\n",
    "\n",
    "lista_1[1] = 'iphone 11'\n",
    "\n",
    "print(lista_1)\n",
    "print(lista_2)\n"
   ]
  },
  {
   "cell_type": "code",
   "execution_count": 21,
   "id": "8b1d1bc1",
   "metadata": {},
   "outputs": [
    {
     "name": "stdout",
     "output_type": "stream",
     "text": [
      "['ipad', 'iphone 11', 'apple tv']\n",
      "['ipad', 'iphone x', 'apple tv']\n"
     ]
    }
   ],
   "source": [
    "lista_1 = ['ipad', 'iphone x', 'apple tv']\n",
    "lista_2 = lista_1[:]\n",
    "\n",
    "lista_1[1] = 'iphone 11'\n",
    "\n",
    "print(lista_1)\n",
    "print(lista_2)"
   ]
  },
  {
   "cell_type": "code",
   "execution_count": 32,
   "id": "63975e88",
   "metadata": {},
   "outputs": [
    {
     "name": "stdout",
     "output_type": "stream",
     "text": [
      "['capitulo 1', 'capitulo 2']\n",
      "['capitulo 1', 'capitulo 2']\n",
      "\n",
      "['capitulo 1', 'capitulo 2']\n",
      "['capitulo 1', 'capitulo 2', 'capitulo 3']\n",
      "Pq não modifica as duas então?\n",
      "\n"
     ]
    }
   ],
   "source": [
    "lista1 = ['capitulo 1', 'capitulo 2']\n",
    "print(lista1)\n",
    "lista2 = lista1\n",
    "print(lista2)\n",
    "print()\n",
    "\n",
    "lista1 = ['capitulo 1', 'capitulo 2', 'capitulo 3']\n",
    "print(lista2)\n",
    "print(lista1)\n",
    "print(\"Pq não modifica as duas então?\\n\")"
   ]
  },
  {
   "cell_type": "code",
   "execution_count": 46,
   "id": "e6c04c52",
   "metadata": {},
   "outputs": [
    {
     "name": "stdout",
     "output_type": "stream",
     "text": [
      "['capitulo 1', 'capitulo 2']\n",
      "['capitulo 1', 'capitulo 2']\n",
      "\n",
      "['capitulo 1', 'capitulo 2', 'capitulo 3']\n",
      "['capitulo 1', 'capitulo 2', 'capitulo 3']\n"
     ]
    }
   ],
   "source": [
    "lista1 = ['capitulo 1', 'capitulo 2']\n",
    "print(lista1)\n",
    "lista2 = lista1\n",
    "print(lista2)\n",
    "print()\n",
    "\n",
    "lista1.append('capitulo 3')\n",
    "print(lista2)\n",
    "print(lista1)\n"
   ]
  },
  {
   "cell_type": "markdown",
   "id": "090bf98e",
   "metadata": {},
   "source": [
    "# Listas de listas"
   ]
  },
  {
   "cell_type": "code",
   "execution_count": 38,
   "id": "e38112ab",
   "metadata": {},
   "outputs": [
    {
     "name": "stdout",
     "output_type": "stream",
     "text": [
      "300\n",
      "1000\n",
      "1710\n"
     ]
    }
   ],
   "source": [
    "vendedor = ['lira', 'joao', 'diego', 'alon']\n",
    "produtos = ['ipad', 'iphone']\n",
    "vendas = [\n",
    "    [100, 200],\n",
    "    [300, 500],\n",
    "    [50, 1000],\n",
    "    [900, 10],\n",
    "]\n",
    "\n",
    "# quanto joao vendeu de ipad?\n",
    "# quanto diego vendeu de iphone?\n",
    "# qual o total de vendas de iphone?\n",
    "print(vendas[vendedor.index('joao')][produtos.index(\"ipad\")])\n",
    "print(vendas[vendedor.index('diego')][produtos.index(\"iphone\")])\n",
    "print(vendas[0][1] + vendas[1][1] + vendas[2][1] + vendas[3][1])\n"
   ]
  },
  {
   "cell_type": "code",
   "execution_count": 40,
   "id": "c4d0b411",
   "metadata": {},
   "outputs": [
    {
     "name": "stdout",
     "output_type": "stream",
     "text": [
      "[100, 50]\n"
     ]
    }
   ],
   "source": [
    "vendedor = ['lira', 'joao', 'diego', 'alon']\n",
    "produtos = ['ipad', 'iphone']\n",
    "vendas = [\n",
    "    [100, 200],\n",
    "    [300, 500],\n",
    "    [50, 1000],\n",
    "    [900, 10],\n",
    "]\n",
    "\n",
    "vendas[0][1] = 50\n",
    "print(vendas[0])"
   ]
  },
  {
   "cell_type": "code",
   "execution_count": 44,
   "id": "4184d779",
   "metadata": {
    "scrolled": true
   },
   "outputs": [
    {
     "name": "stdout",
     "output_type": "stream",
     "text": [
      "[[100, 200, 10], [300, 500, 15], [50, 1000, 6], [900, 10, 70]]\n"
     ]
    }
   ],
   "source": [
    "vendedor = ['lira', 'joao', 'diego', 'alon']\n",
    "produtos = ['ipad', 'iphone']\n",
    "vendas = [\n",
    "    [100, 200],\n",
    "    [300, 500],\n",
    "    [50, 1000],\n",
    "    [900, 10],\n",
    "]\n",
    "\n",
    "vendas_mac = [10, 15, 6, 70]\n",
    "\n",
    "vendas[0].append(vendas_mac[0])\n",
    "vendas[1].append(vendas_mac[1])\n",
    "vendas[2].append(vendas_mac[2])\n",
    "vendas[3].append(vendas_mac[3])\n",
    "\n",
    "\n",
    "print(vendas)"
   ]
  }
 ],
 "metadata": {
  "kernelspec": {
   "display_name": "Python 3 (ipykernel)",
   "language": "python",
   "name": "python3"
  },
  "language_info": {
   "codemirror_mode": {
    "name": "ipython",
    "version": 3
   },
   "file_extension": ".py",
   "mimetype": "text/x-python",
   "name": "python",
   "nbconvert_exporter": "python",
   "pygments_lexer": "ipython3",
   "version": "3.9.12"
  }
 },
 "nbformat": 4,
 "nbformat_minor": 5
}

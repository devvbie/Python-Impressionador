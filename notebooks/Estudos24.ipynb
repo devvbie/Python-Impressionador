{
 "cells": [
  {
   "cell_type": "markdown",
   "id": "d9fdb83c",
   "metadata": {},
   "source": [
    "# List Comprehension\n",
    "- Forma de percorrer todos os itens de uma lista de forma mais direta\n",
    "\n",
    "lista = [ expressão for item in iterable ]\n",
    "\n",
    "- pode ser aplicado a função\n",
    "- é uma utilização cara em questão do tempo de compilação (não podemos usar break, etc)\n",
    "- geralmente usado quando queremos fazer uma única ação com os itens de uma lista"
   ]
  },
  {
   "cell_type": "code",
   "execution_count": 9,
   "id": "c399aa55",
   "metadata": {},
   "outputs": [
    {
     "name": "stdout",
     "output_type": "stream",
     "text": [
      "[2, 3, 4, 5, 6, 7]\n"
     ]
    }
   ],
   "source": [
    "contagem_um = [1, 2, 3, 4, 5, 6] \n",
    "contagem_dois = []\n",
    "\n",
    "for digito in contagem_um:\n",
    "    contagem_dois.append(digito+1)\n",
    "\n",
    "print(contagem_dois)"
   ]
  },
  {
   "cell_type": "code",
   "execution_count": 20,
   "id": "448bc036",
   "metadata": {},
   "outputs": [
    {
     "name": "stdout",
     "output_type": "stream",
     "text": [
      "[4, 4, 4, 4, 4, 4]\n"
     ]
    }
   ],
   "source": [
    "contagem_um = [3, 3, 3, 3, 3, 3] \n",
    "contagem_dois = [digito + 1 for digito in contagem_um]\n",
    "\n",
    "print(contagem_dois)"
   ]
  },
  {
   "cell_type": "code",
   "execution_count": 29,
   "id": "e1bad020",
   "metadata": {},
   "outputs": [
    {
     "ename": "TypeError",
     "evalue": "can only concatenate list (not \"int\") to list",
     "output_type": "error",
     "traceback": [
      "\u001b[1;31m---------------------------------------------------------------------------\u001b[0m",
      "\u001b[1;31mTypeError\u001b[0m                                 Traceback (most recent call last)",
      "Input \u001b[1;32mIn [29]\u001b[0m, in \u001b[0;36m<cell line: 7>\u001b[1;34m()\u001b[0m\n\u001b[0;32m      4\u001b[0m \u001b[38;5;28;01mdef\u001b[39;00m \u001b[38;5;21msoma1\u001b[39m(a, b):\n\u001b[0;32m      5\u001b[0m     \u001b[38;5;28;01mreturn\u001b[39;00m a \u001b[38;5;241m+\u001b[39m \u001b[38;5;241m1\u001b[39m\n\u001b[1;32m----> 7\u001b[0m contagem_dois \u001b[38;5;241m=\u001b[39m [soma1(contagem_um, contagem_dois) \u001b[38;5;28;01mfor\u001b[39;00m a \u001b[38;5;129;01min\u001b[39;00m contagem_um]\n\u001b[0;32m      8\u001b[0m \u001b[38;5;28mprint\u001b[39m(contagem_dois)\n",
      "Input \u001b[1;32mIn [29]\u001b[0m, in \u001b[0;36m<listcomp>\u001b[1;34m(.0)\u001b[0m\n\u001b[0;32m      4\u001b[0m \u001b[38;5;28;01mdef\u001b[39;00m \u001b[38;5;21msoma1\u001b[39m(a, b):\n\u001b[0;32m      5\u001b[0m     \u001b[38;5;28;01mreturn\u001b[39;00m a \u001b[38;5;241m+\u001b[39m \u001b[38;5;241m1\u001b[39m\n\u001b[1;32m----> 7\u001b[0m contagem_dois \u001b[38;5;241m=\u001b[39m [\u001b[43msoma1\u001b[49m\u001b[43m(\u001b[49m\u001b[43mcontagem_um\u001b[49m\u001b[43m,\u001b[49m\u001b[43m \u001b[49m\u001b[43mcontagem_dois\u001b[49m\u001b[43m)\u001b[49m \u001b[38;5;28;01mfor\u001b[39;00m a \u001b[38;5;129;01min\u001b[39;00m contagem_um]\n\u001b[0;32m      8\u001b[0m \u001b[38;5;28mprint\u001b[39m(contagem_dois)\n",
      "Input \u001b[1;32mIn [29]\u001b[0m, in \u001b[0;36msoma1\u001b[1;34m(a, b)\u001b[0m\n\u001b[0;32m      4\u001b[0m \u001b[38;5;28;01mdef\u001b[39;00m \u001b[38;5;21msoma1\u001b[39m(a, b):\n\u001b[1;32m----> 5\u001b[0m     \u001b[38;5;28;01mreturn\u001b[39;00m \u001b[43ma\u001b[49m\u001b[43m \u001b[49m\u001b[38;5;241;43m+\u001b[39;49m\u001b[43m \u001b[49m\u001b[38;5;241;43m1\u001b[39;49m\n",
      "\u001b[1;31mTypeError\u001b[0m: can only concatenate list (not \"int\") to list"
     ]
    }
   ],
   "source": [
    "contagem_um = [2, 2, 2, 2, 2, 2]\n",
    "contagem_dois = []\n",
    "\n",
    "def soma1(a, b):\n",
    "    return a + 1\n",
    "\n",
    "contagem_dois = [soma1(contagem_um, contagem_dois) for  in ]\n",
    "print(contagem_dois)"
   ]
  },
  {
   "cell_type": "code",
   "execution_count": null,
   "id": "fb668fe7",
   "metadata": {},
   "outputs": [],
   "source": []
  }
 ],
 "metadata": {
  "kernelspec": {
   "display_name": "Python 3 (ipykernel)",
   "language": "python",
   "name": "python3"
  },
  "language_info": {
   "codemirror_mode": {
    "name": "ipython",
    "version": 3
   },
   "file_extension": ".py",
   "mimetype": "text/x-python",
   "name": "python",
   "nbconvert_exporter": "python",
   "pygments_lexer": "ipython3",
   "version": "3.9.12"
  }
 },
 "nbformat": 4,
 "nbformat_minor": 5
}

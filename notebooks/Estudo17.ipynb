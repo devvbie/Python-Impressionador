{
 "cells": [
  {
   "cell_type": "markdown",
   "id": "d0cd3ff4",
   "metadata": {},
   "source": [
    "# Function\n",
    "- passa argumento em ordem (positional argument) ou com o nome do argumento (keyword argument)"
   ]
  },
  {
   "cell_type": "code",
   "execution_count": null,
   "id": "d6ee3dd8",
   "metadata": {},
   "outputs": [],
   "source": [
    "def verbo_nome_funcao():\n",
    "    faça alguma coisa\n",
    "    faça outra coisa\n",
    "    return valor_final"
   ]
  },
  {
   "cell_type": "code",
   "execution_count": 1,
   "id": "d7d629e8",
   "metadata": {},
   "outputs": [
    {
     "name": "stdout",
     "output_type": "stream",
     "text": [
      "[1, 2, 3, 3, 4, 9, 10, 12, 16, 20, 48, 89]\n"
     ]
    }
   ],
   "source": [
    "lista = [1, 2, 3, 4, 10, 48, 20, 12, 3, 16, 89, 9]\n",
    "\n",
    "lista.sort()\n",
    "\n",
    "print(lista)\n"
   ]
  },
  {
   "cell_type": "code",
   "execution_count": 2,
   "id": "51678c9b",
   "metadata": {},
   "outputs": [],
   "source": [
    "def cadastrar():\n",
    "    nome = input(\"qual seu nome? \")\n",
    "    print(\"{} cadastrado(a) com sucesso.\".format(nome))\n"
   ]
  },
  {
   "cell_type": "code",
   "execution_count": 3,
   "id": "dc5bfdb6",
   "metadata": {},
   "outputs": [
    {
     "name": "stdout",
     "output_type": "stream",
     "text": [
      "qual seu nome? maria\n",
      "maria cadastrado(a) com sucesso.\n"
     ]
    }
   ],
   "source": [
    "def cadastrar():\n",
    "    nome = input(\"qual seu nome? \")\n",
    "    print(\"{} cadastrado(a) com sucesso.\".format(nome))\n",
    "\n",
    "cadastrar()"
   ]
  },
  {
   "cell_type": "code",
   "execution_count": 5,
   "id": "23496b97",
   "metadata": {},
   "outputs": [
    {
     "name": "stdout",
     "output_type": "stream",
     "text": [
      "qual seu nome? maria\n",
      "maria\n"
     ]
    }
   ],
   "source": [
    "def cadastrar():\n",
    "    nome = input(\"qual seu nome? \")\n",
    "    return nome\n",
    "\n",
    "a = cadastrar()\n",
    "print(a)"
   ]
  },
  {
   "cell_type": "code",
   "execution_count": 8,
   "id": "04ee473f",
   "metadata": {},
   "outputs": [
    {
     "name": "stdout",
     "output_type": "stream",
     "text": [
      "6\n"
     ]
    }
   ],
   "source": [
    "def somar(a, b):\n",
    "    soma = a + b\n",
    "    return soma\n",
    "\n",
    "x = 1\n",
    "y = 5\n",
    "\n",
    "z = somar(x, y)\n",
    "print(z)"
   ]
  },
  {
   "cell_type": "code",
   "execution_count": 10,
   "id": "8a1dc450",
   "metadata": {},
   "outputs": [
    {
     "name": "stdout",
     "output_type": "stream",
     "text": [
      "4\n"
     ]
    }
   ],
   "source": [
    "def subtrair(a, b):\n",
    "    soma = a - b\n",
    "    return soma\n",
    "\n",
    "x = 5\n",
    "y = 1\n",
    "\n",
    "z = subtrair(b = y, a = x)\n",
    "print(z)"
   ]
  },
  {
   "cell_type": "code",
   "execution_count": 11,
   "id": "186dd967",
   "metadata": {},
   "outputs": [
    {
     "name": "stdout",
     "output_type": "stream",
     "text": [
      "4\n"
     ]
    }
   ],
   "source": [
    "def subtrair(a, b):\n",
    "    soma = a - b\n",
    "    return soma\n",
    "\n",
    "x = 5\n",
    "y = 1\n",
    "\n",
    "z = subtrair(x, y)\n",
    "print(z)"
   ]
  },
  {
   "cell_type": "code",
   "execution_count": 12,
   "id": "fc0386d1",
   "metadata": {},
   "outputs": [
    {
     "name": "stdout",
     "output_type": "stream",
     "text": [
      "mudando o separador do\n",
      "print\n"
     ]
    }
   ],
   "source": [
    "print('mudando o separador do', 'print' , sep = '\\n')"
   ]
  },
  {
   "cell_type": "code",
   "execution_count": null,
   "id": "56ba100b",
   "metadata": {},
   "outputs": [],
   "source": []
  }
 ],
 "metadata": {
  "kernelspec": {
   "display_name": "Python 3 (ipykernel)",
   "language": "python",
   "name": "python3"
  },
  "language_info": {
   "codemirror_mode": {
    "name": "ipython",
    "version": 3
   },
   "file_extension": ".py",
   "mimetype": "text/x-python",
   "name": "python",
   "nbconvert_exporter": "python",
   "pygments_lexer": "ipython3",
   "version": "3.9.12"
  }
 },
 "nbformat": 4,
 "nbformat_minor": 5
}

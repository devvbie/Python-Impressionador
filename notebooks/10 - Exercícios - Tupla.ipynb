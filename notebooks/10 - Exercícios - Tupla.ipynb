{
 "cells": [
  {
   "cell_type": "markdown",
   "metadata": {},
   "source": [
    "# Exercícios\n",
    "\n",
    "São exercícios bem parecidos com os que fizemos com listas. Mas na tupla, podemos não só trabalhar com índices, mas fazer o \"unpacking\" das tuplas, o que pode facilitar nossos códigos.\n",
    "\n",
    "## 1. Análise de Vendas\n",
    "\n",
    "Nesse exercício vamos fazer uma \"análise simples\" de atingimento de Meta.\n",
    "\n",
    "Temos uma lista com os vendedores e os valores de vendas e queremos identificar (printar) quais os vendedores que bateram a meta e qual foi o valor que eles venderam."
   ]
  },
  {
   "cell_type": "code",
   "execution_count": 6,
   "metadata": {},
   "outputs": [
    {
     "name": "stdout",
     "output_type": "stream",
     "text": [
      "João bateu a meta. Vendeu 15000 unidades.\n",
      "Julia bateu a meta. Vendeu 27000 unidades.\n",
      "Ana bateu a meta. Vendeu 10300 unidades.\n"
     ]
    }
   ],
   "source": [
    "meta = 10000\n",
    "vendas = [\n",
    "    ('João', 15000),\n",
    "    ('Julia', 27000),\n",
    "    ('Marcus', 9900),\n",
    "    ('Maria', 3750),\n",
    "    ('Ana', 10300),\n",
    "    ('Alon', 7870),\n",
    "]\n",
    "\n",
    "for venda in vendas:\n",
    "    nome, u = venda\n",
    "    if u >= meta:\n",
    "        print(\"{} bateu a meta. Vendeu {} unidades.\".format(nome, u))"
   ]
  },
  {
   "cell_type": "markdown",
   "metadata": {},
   "source": [
    "## 2. Comparação com Ano Anterior\n",
    "\n",
    "Digamos que você está analisando as vendas de produtos de um ecommerce e quer identificar quais produtos tiveram no ano de 2020 mais vendas do que no ano de 2019, para reportar isso para a diretoria.\n",
    "\n",
    "Sua resposta pode ser um print de cada produto, qual foi a venda de 2019, a venda de 2020 e o % de crescimento de 2020 para 2019.\n",
    "\n",
    "Lembrando, para calcular o % de crescimento de um produto de um ano para o outro, podemos fazer: (vendas_produto2020/vendas_produto2019 - 1)\n",
    "\n",
    "A lógica da tupla é: (produto, vendas2019, vendas2020)"
   ]
  },
  {
   "cell_type": "code",
   "execution_count": 7,
   "metadata": {},
   "outputs": [
    {
     "name": "stdout",
     "output_type": "stream",
     "text": [
      "Produto: iphone. Vendas de 2019: 558147. Vendas de 2020: 951642. Percentual de crescimento: 70.5%\n",
      "Produto: tv. Vendas de 2019: 405252. Vendas de 2020: 787604. Percentual de crescimento: 94.3%\n",
      "Produto: máquina de café. Vendas de 2019: 718654. Vendas de 2020: 867660. Percentual de crescimento: 20.7%\n",
      "Produto: notebook dell. Vendas de 2019: 422760. Vendas de 2020: 694913. Percentual de crescimento: 64.4%\n",
      "Produto: notebook hp. Vendas de 2019: 154753. Vendas de 2020: 539704. Percentual de crescimento: 248.8%\n",
      "Produto: microsoft surface. Vendas de 2019: 438508. Vendas de 2020: 667179. Percentual de crescimento: 52.1%\n",
      "Produto: webcam. Vendas de 2019: 237467. Vendas de 2020: 295633. Percentual de crescimento: 24.5%\n",
      "Produto: caixa de som. Vendas de 2019: 489705. Vendas de 2020: 725316. Percentual de crescimento: 48.1%\n",
      "Produto: microfone. Vendas de 2019: 328311. Vendas de 2020: 644622. Percentual de crescimento: 96.3%\n",
      "Produto: câmera canon. Vendas de 2019: 591120. Vendas de 2020: 994303. Percentual de crescimento: 68.2%\n"
     ]
    }
   ],
   "source": [
    "vendas_produtos = [('iphone', 558147, 951642), ('galaxy', 712350, 244295), ('ipad', 573823, 26964), ('tv', 405252, 787604), ('máquina de café', 718654, 867660), ('kindle', 531580, 78830), ('geladeira', 973139, 710331), ('adega', 892292, 646016), ('notebook dell', 422760, 694913), ('notebook hp', 154753, 539704), ('notebook asus', 887061, 324831), ('microsoft surface', 438508, 667179), ('webcam', 237467, 295633), ('caixa de som', 489705, 725316), ('microfone', 328311, 644622), ('câmera canon', 591120, 994303)]\n",
    "\n",
    "#seu código aqui\n",
    "for produto, venda2019, venda2020 in vendas_produtos:\n",
    "    if venda2020 > venda2019:\n",
    "        print(\"Produto: {}. Vendas de 2019: {}. Vendas de 2020: {}. Percentual de crescimento: {:.1%}\"\n",
    "              .format(produto, venda2019, venda2020, venda2020/venda2019-1))"
   ]
  },
  {
   "cell_type": "code",
   "execution_count": null,
   "metadata": {},
   "outputs": [],
   "source": []
  }
 ],
 "metadata": {
  "kernelspec": {
   "display_name": "Python 3 (ipykernel)",
   "language": "python",
   "name": "python3"
  },
  "language_info": {
   "codemirror_mode": {
    "name": "ipython",
    "version": 3
   },
   "file_extension": ".py",
   "mimetype": "text/x-python",
   "name": "python",
   "nbconvert_exporter": "python",
   "pygments_lexer": "ipython3",
   "version": "3.9.12"
  }
 },
 "nbformat": 4,
 "nbformat_minor": 4
}

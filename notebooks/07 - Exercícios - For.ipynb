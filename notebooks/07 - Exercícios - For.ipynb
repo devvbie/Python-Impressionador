{
 "cells": [
  {
   "cell_type": "markdown",
   "metadata": {},
   "source": [
    "# Exercícios\n",
    "\n",
    "## 1. Criando um Registro de Hóspedes\n",
    "\n",
    "Digamos que você está criando o sistema para registrar a chegada de hóspedes em um hotel. No hotel, os hóspedes podem ter quartos com 1, 2, 3 e 4 pessoas. Seu sistema deve conseguir:\n",
    "\n",
    "1. Identificar quantas pessoas o hóspede que acabou de chegar vai ter no quarto (perguntando por meio de input)\n",
    "2. De acordo com a quantidade de pessoas do hóspede, ele deve fazer um for para perguntar o cpf e o nome de cada pessoa, a fim de registrá-la no quarto (2 inputs para cada pessoa, 1 para o cpf e outro para o nome)\n",
    "3. O seu programa então deve gerar uma lista com todas as pessoas que ficarão no quarto em que cada item dessa lista é o nome da pessoa e o cpf da pessoa, assim:"
   ]
  },
  {
   "cell_type": "raw",
   "metadata": {},
   "source": [
    "quarto = [\n",
    "    ['João', 'cpf:00000000000'],\n",
    "    ['Julia', 'cpf:11111111111'],\n",
    "    ['Marcus', 'cpf:22222222222'],\n",
    "    ['Maria', 'cpf:33333333333'],\n",
    "]"
   ]
  },
  {
   "cell_type": "markdown",
   "metadata": {},
   "source": [
    "- Para simplificar, não vamos nos preocupar com possibilidades de \"tentar colocar mais de 1 hóspede, digitar o cpf errado, etc. Nosso objetivo é treinar a criação de uma rotina de cadastro"
   ]
  },
  {
   "cell_type": "code",
   "execution_count": 2,
   "metadata": {},
   "outputs": [
    {
     "name": "stdout",
     "output_type": "stream",
     "text": [
      "Quantas pessoas irão no quarto? 4\n",
      "Qual o nome da pessoa nº 0 ? joao\n",
      "Qual o cpf da pessoa nº 0 ? 0\n",
      "Qual o nome da pessoa nº 1 ? julia\n",
      "Qual o cpf da pessoa nº 1 ? 1\n",
      "Qual o nome da pessoa nº 2 ? marcus\n",
      "Qual o cpf da pessoa nº 2 ? 2\n",
      "Qual o nome da pessoa nº 3 ? maria\n",
      "Qual o cpf da pessoa nº 3 ? 3\n",
      "[['joao', 'cpf:0'], ['julia', 'cpf:1'], ['marcus', 'cpf:2'], ['maria', 'cpf:3']]\n"
     ]
    }
   ],
   "source": [
    "#seu código aqui\n",
    "lista = []\n",
    "qtd = int(input(\"Quantas pessoas irão no quarto? \"))\n",
    "\n",
    "for i in range(qtd):\n",
    "    nome = input(\"Qual o nome da pessoa nº {} ? \".format(i))\n",
    "    cpf = input(\"Qual o cpf da pessoa nº {} ? \".format(i))\n",
    "    nome_cpf = [nome, 'cpf:' + cpf]\n",
    "    lista.append(nome_cpf)\n",
    "    \n",
    "print(lista)"
   ]
  },
  {
   "cell_type": "markdown",
   "metadata": {},
   "source": [
    "## 2. Análise de Vendas\n",
    "\n",
    "Nesse exercício vamos fazer uma \"análise simples\" de atingimento de Meta.\n",
    "\n",
    "Temos uma lista com os vendedores e os valores de vendas e queremos identificar (printar) quais os vendedores que bateram a meta e qual foi o valor que eles venderam."
   ]
  },
  {
   "cell_type": "code",
   "execution_count": 4,
   "metadata": {},
   "outputs": [
    {
     "name": "stdout",
     "output_type": "stream",
     "text": [
      "['João', 15000]\n",
      "['Julia', 27000]\n",
      "['Ana', 10300]\n"
     ]
    }
   ],
   "source": [
    "meta = 10000\n",
    "vendas = [\n",
    "    ['João', 15000],\n",
    "    ['Julia', 27000],\n",
    "    ['Marcus', 9900],\n",
    "    ['Maria', 3750],\n",
    "    ['Ana', 10300],\n",
    "    ['Alon', 7870],\n",
    "]\n",
    "#seu código aqui\n",
    "\n",
    "for venda in vendas:\n",
    "    if venda[1] >= meta:\n",
    "        print(venda)"
   ]
  },
  {
   "cell_type": "markdown",
   "metadata": {},
   "source": [
    "## 3. Comparação com Ano Anterior\n",
    "\n",
    "Digamos que você está analisando as vendas de produtos de um ecommerce e quer identificar quais produtos tiveram no ano de 2020 mais vendas do que no ano de 2019, para reportar isso para a diretoria.\n",
    "\n",
    "Sua resposta pode ser um print de cada produto, qual foi a venda de 2019, a venda de 2020 e o % de crescimento de 2020 para 2019.\n",
    "\n",
    "Lembrando, para calcular o % de crescimento de um produto de um ano para o outro, podemos fazer: (vendas_produto2020/vendas_produto2019 - 1)\n",
    "\n",
    "Dica: lembre do enumerate, ele pode facilitar seu \"for\""
   ]
  },
  {
   "cell_type": "code",
   "execution_count": 16,
   "metadata": {},
   "outputs": [
    {
     "name": "stdout",
     "output_type": "stream",
     "text": [
      "iphone vendeu 558147 produtos em 2019, e 951642 produtos em 2020. O percentual de crescimento foi de 70.50%\n",
      "tv vendeu 405252 produtos em 2019, e 787604 produtos em 2020. O percentual de crescimento foi de 94.35%\n",
      "máquina de café vendeu 718654 produtos em 2019, e 867660 produtos em 2020. O percentual de crescimento foi de 20.73%\n",
      "notebook dell vendeu 422760 produtos em 2019, e 694913 produtos em 2020. O percentual de crescimento foi de 64.38%\n",
      "notebook hp vendeu 154753 produtos em 2019, e 539704 produtos em 2020. O percentual de crescimento foi de 248.75%\n",
      "microsoft surface vendeu 438508 produtos em 2019, e 667179 produtos em 2020. O percentual de crescimento foi de 52.15%\n",
      "webcam vendeu 237467 produtos em 2019, e 295633 produtos em 2020. O percentual de crescimento foi de 24.49%\n",
      "caixa de som vendeu 489705 produtos em 2019, e 725316 produtos em 2020. O percentual de crescimento foi de 48.11%\n",
      "microfone vendeu 328311 produtos em 2019, e 644622 produtos em 2020. O percentual de crescimento foi de 96.34%\n",
      "câmera canon vendeu 591120 produtos em 2019, e 994303 produtos em 2020. O percentual de crescimento foi de 68.21%\n"
     ]
    }
   ],
   "source": [
    "produtos = ['iphone', 'galaxy', 'ipad', 'tv', 'máquina de café', 'kindle', 'geladeira', 'adega', 'notebook dell', 'notebook hp', 'notebook asus', 'microsoft surface', 'webcam', 'caixa de som', 'microfone', 'câmera canon']\n",
    "vendas2019 = [558147,712350,573823,405252,718654,531580,973139,892292,422760,154753,887061,438508,237467,489705,328311,591120]\n",
    "vendas2020 = [951642,244295,26964,787604,867660,78830,710331,646016,694913,539704,324831,667179,295633,725316,644622,994303]\n",
    "#seu código aqui\n",
    "\n",
    "for i, produto in enumerate(produtos):\n",
    "    if vendas2020[i] > vendas2019[i]:\n",
    "        print(\"{} vendeu {} produtos em 2019, e {} produtos em 2020. O percentual de crescimento foi de {:.2%}\"\n",
    "              .format(produto, vendas2019[i], vendas2020[i], vendas2020[i]/vendas2019[i]-1))"
   ]
  },
  {
   "cell_type": "code",
   "execution_count": null,
   "metadata": {},
   "outputs": [],
   "source": []
  }
 ],
 "metadata": {
  "kernelspec": {
   "display_name": "Python 3 (ipykernel)",
   "language": "python",
   "name": "python3"
  },
  "language_info": {
   "codemirror_mode": {
    "name": "ipython",
    "version": 3
   },
   "file_extension": ".py",
   "mimetype": "text/x-python",
   "name": "python",
   "nbconvert_exporter": "python",
   "pygments_lexer": "ipython3",
   "version": "3.9.12"
  }
 },
 "nbformat": 4,
 "nbformat_minor": 4
}

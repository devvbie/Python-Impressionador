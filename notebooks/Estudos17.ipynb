{
 "cells": [
  {
   "cell_type": "markdown",
   "id": "33f01aed",
   "metadata": {},
   "source": [
    "# Funções\n",
    "- Bloco de código que servem um propósito\n"
   ]
  },
  {
   "cell_type": "code",
   "execution_count": null,
   "id": "e49b791c",
   "metadata": {},
   "outputs": [],
   "source": [
    "def nome_verboINFINITIVO():\n",
    "    instrucao 1\n",
    "    instrucao 2\n",
    "    return valor_final"
   ]
  },
  {
   "cell_type": "code",
   "execution_count": 3,
   "id": "698c03d6",
   "metadata": {},
   "outputs": [
    {
     "name": "stdout",
     "output_type": "stream",
     "text": [
      "digite qualquer caractere: a\n",
      "É válido\n",
      "digite qualquer caractere: 5\n",
      "É válido\n"
     ]
    }
   ],
   "source": [
    "def printar_valido():\n",
    "    print(\"É válido\")\n",
    "    \n",
    "input(\"digite qualquer caractere: \")\n",
    "printar_valido()\n",
    "input(\"digite qualquer caractere: \")\n",
    "printar_valido()\n"
   ]
  },
  {
   "cell_type": "code",
   "execution_count": 4,
   "id": "e0ae9421",
   "metadata": {},
   "outputs": [
    {
     "name": "stdout",
     "output_type": "stream",
     "text": [
      "digite qualquer caractere: s\n",
      "digite qualquer caractere: 5\n",
      "1 1\n"
     ]
    }
   ],
   "source": [
    "def printar_valido():\n",
    "    return 1;\n",
    "    \n",
    "input(\"digite qualquer caractere: \")\n",
    "a = printar_valido()\n",
    "input(\"digite qualquer caractere: \")\n",
    "b = printar_valido()\n",
    "\n",
    "print(a, b)"
   ]
  },
  {
   "cell_type": "code",
   "execution_count": 5,
   "id": "a21d00e6",
   "metadata": {},
   "outputs": [
    {
     "name": "stdout",
     "output_type": "stream",
     "text": [
      "digite qualquer caractere: 5\n",
      "É válido\n",
      "digite qualquer caractere: d\n",
      "É válido\n"
     ]
    }
   ],
   "source": [
    "def printar_valido():\n",
    "    return print(\"É válido\")\n",
    "    \n",
    "input(\"digite qualquer caractere: \")\n",
    "printar_valido()\n",
    "input(\"digite qualquer caractere: \")\n",
    "printar_valido()\n"
   ]
  },
  {
   "cell_type": "markdown",
   "id": "55a87947",
   "metadata": {},
   "source": [
    "### Variáveis usadas dentro de funções só existem naquelas funções!\n",
    "### argumentos e parâmetros:"
   ]
  },
  {
   "cell_type": "code",
   "execution_count": 8,
   "id": "8d9f5bf4",
   "metadata": {},
   "outputs": [
    {
     "name": "stdout",
     "output_type": "stream",
     "text": [
      "digite qualquer caractere: 5\n",
      "é impar\n",
      "digite qualquer caractere: 2\n",
      "é par\n"
     ]
    }
   ],
   "source": [
    "def printar_paridade(num):\n",
    "    if num%2==0:\n",
    "        print(\"é par\")\n",
    "    else:\n",
    "        print(\"é impar\")\n",
    "\n",
    "a = int(input(\"digite qualquer caractere: \"))\n",
    "printar_paridade(a)\n",
    "b = int(input(\"digite qualquer caractere: \"))\n",
    "printar_paridade(b)"
   ]
  },
  {
   "cell_type": "markdown",
   "id": "90d9d66c",
   "metadata": {},
   "source": [
    "## Passagem de mais de um argumento e formas de passar argumento para uma função\n",
    "1. Em ordem\n",
    "2. Com o nome do argumento (a partir do momento que usar esta forma, repetir para os que vierem depois!)"
   ]
  },
  {
   "cell_type": "code",
   "execution_count": 10,
   "id": "14d9c8ef",
   "metadata": {},
   "outputs": [
    {
     "name": "stdout",
     "output_type": "stream",
     "text": [
      "digite qualquer caractere: 2\n",
      "é par. 1º tentativa\n",
      "digite qualquer caractere: 6\n",
      "é par. 2º tentativa\n"
     ]
    }
   ],
   "source": [
    "def printar_paridade(num, t):\n",
    "    if num%2==0:\n",
    "        print(\"é par. {}º tentativa\".format(t))\n",
    "    else:\n",
    "        print(\"é impar. {}º tentativa\".format(t))\n",
    "\n",
    "a = int(input(\"digite qualquer caractere: \"))\n",
    "printar_paridade(a, 1)\n",
    "b = int(input(\"digite qualquer caractere: \"))\n",
    "printar_paridade(t=2, num=b)"
   ]
  },
  {
   "cell_type": "code",
   "execution_count": 11,
   "id": "08670457",
   "metadata": {},
   "outputs": [
    {
     "ename": "SyntaxError",
     "evalue": "positional argument follows keyword argument (1854788119.py, line 8)",
     "output_type": "error",
     "traceback": [
      "\u001b[1;36m  Input \u001b[1;32mIn [11]\u001b[1;36m\u001b[0m\n\u001b[1;33m    printar_paridade(t=1, a)\u001b[0m\n\u001b[1;37m                           ^\u001b[0m\n\u001b[1;31mSyntaxError\u001b[0m\u001b[1;31m:\u001b[0m positional argument follows keyword argument\n"
     ]
    }
   ],
   "source": [
    "def printar_paridade(num, t):\n",
    "    if num%2==0:\n",
    "        print(\"é par. {}º tentativa\".format(t))\n",
    "    else:\n",
    "        print(\"é impar. {}º tentativa\".format(t))\n",
    "\n",
    "a = int(input(\"digite qualquer caractere: \"))\n",
    "printar_paridade(t=1, a)\n"
   ]
  },
  {
   "cell_type": "code",
   "execution_count": 12,
   "id": "1b7aac77",
   "metadata": {},
   "outputs": [
    {
     "name": "stdout",
     "output_type": "stream",
     "text": [
      "digite qualquer caractere: 5\n",
      "é impar. 1º tentativa\n"
     ]
    }
   ],
   "source": [
    "def printar_paridade(num, t):\n",
    "    if num%2==0:\n",
    "        print(\"é par. {}º tentativa\".format(t))\n",
    "    else:\n",
    "        print(\"é impar. {}º tentativa\".format(t))\n",
    "\n",
    "a = int(input(\"digite qualquer caractere: \"))\n",
    "printar_paridade(a, t=1)\n"
   ]
  },
  {
   "cell_type": "code",
   "execution_count": 13,
   "id": "8892baba",
   "metadata": {},
   "outputs": [
    {
     "name": "stdout",
     "output_type": "stream",
     "text": [
      "frase para testar os espaços\n"
     ]
    }
   ],
   "source": [
    "print('frase para', 'testar', 'os espaços')"
   ]
  },
  {
   "cell_type": "code",
   "execution_count": 14,
   "id": "3693fee0",
   "metadata": {},
   "outputs": [
    {
     "name": "stdout",
     "output_type": "stream",
     "text": [
      "frase para\n",
      "testar\n",
      "os espaços\n"
     ]
    }
   ],
   "source": [
    "print('frase para', 'testar', 'os espaços', sep = '\\n')"
   ]
  },
  {
   "cell_type": "code",
   "execution_count": null,
   "id": "b12f1b67",
   "metadata": {},
   "outputs": [],
   "source": []
  }
 ],
 "metadata": {
  "kernelspec": {
   "display_name": "Python 3 (ipykernel)",
   "language": "python",
   "name": "python3"
  },
  "language_info": {
   "codemirror_mode": {
    "name": "ipython",
    "version": 3
   },
   "file_extension": ".py",
   "mimetype": "text/x-python",
   "name": "python",
   "nbconvert_exporter": "python",
   "pygments_lexer": "ipython3",
   "version": "3.9.12"
  }
 },
 "nbformat": 4,
 "nbformat_minor": 5
}

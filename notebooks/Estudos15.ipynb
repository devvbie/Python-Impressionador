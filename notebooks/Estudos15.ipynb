{
 "cells": [
  {
   "cell_type": "markdown",
   "id": "d630b85f",
   "metadata": {},
   "source": [
    "# Métodos para dicionários\n",
    "- items()\n",
    "- keys() : uma \"lista\" com todas as chaves do dicionario\n",
    "- values() : uma \"lista com todos os valores do dicionario\n"
   ]
  },
  {
   "cell_type": "code",
   "execution_count": 2,
   "id": "0144d5bc",
   "metadata": {},
   "outputs": [
    {
     "name": "stdout",
     "output_type": "stream",
     "text": [
      "dict_items([('produto1', 'farinha'), ('produto2', 'mandioca')])\n"
     ]
    }
   ],
   "source": [
    "dicio = {'produto1': 'farinha', 'produto2': 'mandioca'}\n",
    "\n",
    "itens_dicionario = dicio.items()\n",
    "print(itens_dicionario)"
   ]
  },
  {
   "cell_type": "code",
   "execution_count": 3,
   "id": "6faa456b",
   "metadata": {},
   "outputs": [
    {
     "name": "stdout",
     "output_type": "stream",
     "text": [
      "('produto1', 'farinha')\n",
      "('produto2', 'mandioca')\n"
     ]
    }
   ],
   "source": [
    "dicio = {'produto1': 'farinha', 'produto2': 'mandioca'}\n",
    "\n",
    "for item in dicio.items():\n",
    "    print(item)"
   ]
  },
  {
   "cell_type": "code",
   "execution_count": 5,
   "id": "380809b3",
   "metadata": {},
   "outputs": [
    {
     "name": "stdout",
     "output_type": "stream",
     "text": [
      "produto1: farinha\n",
      "produto2: mandioca\n"
     ]
    }
   ],
   "source": [
    "dicio = {'produto1': 'farinha', 'produto2': 'mandioca'}\n",
    "\n",
    "for numprod, prod in dicio.items():\n",
    "    print('{}: {}'.format(numprod, prod))"
   ]
  },
  {
   "cell_type": "code",
   "execution_count": 7,
   "id": "fefb7cdc",
   "metadata": {},
   "outputs": [
    {
     "name": "stdout",
     "output_type": "stream",
     "text": [
      "dict_keys(['produto1', 'produto2'])\n",
      "dict_values(['farinha', 'mandioca'])\n"
     ]
    }
   ],
   "source": [
    "dicio = {'produto1': 'farinha', 'produto2': 'mandioca'}\n",
    "print(dicio.keys())\n",
    "print(dicio.values())"
   ]
  },
  {
   "cell_type": "code",
   "execution_count": 8,
   "id": "e8e5b808",
   "metadata": {},
   "outputs": [
    {
     "name": "stdout",
     "output_type": "stream",
     "text": [
      "dict_keys(['produto1', 'produto2'])\n",
      "dict_values(['farinha', 'mandioca'])\n",
      "--------------\n",
      "dict_keys(['produto1', 'produto2', 'produto3'])\n",
      "dict_values(['farinha', 'mandioca', 'cafe'])\n"
     ]
    }
   ],
   "source": [
    "dicio = {'produto1': 'farinha', 'produto2': 'mandioca'}\n",
    "print(dicio.keys())\n",
    "print(dicio.values())\n",
    "print(\"--------------\")\n",
    "dicio['produto3'] = 'cafe'\n",
    "print(dicio.keys())\n",
    "print(dicio.values())"
   ]
  },
  {
   "cell_type": "code",
   "execution_count": 9,
   "id": "c12e15d9",
   "metadata": {},
   "outputs": [
    {
     "name": "stdout",
     "output_type": "stream",
     "text": [
      "{'produto1': 'farinha', 'produto2': 'mandioca'}\n",
      "['produto1', 'produto2']\n"
     ]
    }
   ],
   "source": [
    "dicio = {'produto1': 'farinha', 'produto2': 'mandioca'}\n",
    "print(dicio)\n",
    "print(list(dicio))"
   ]
  },
  {
   "cell_type": "markdown",
   "id": "8647dc79",
   "metadata": {},
   "source": [
    "# Tranformar listas em dicionário e function zip\n",
    "- dicionario com valores padrões:<br>\n",
    "dicionario = dict.fromkeys(lista_chaves, valor_padrao)<br>\n",
    "- Dicionário a partir de listas de tuplas:<br>\n",
    "dicionario = dict(lista_tuplas)<br>\n",
    "- dicionario a partir de 2 listas:<br>\n",
    "passo 1: transformar listas em lista de tuplas com o método zip<br>\n",
    "passo 2: transformar em dicionário<br>\n",
    "lista_tuplas = zip(lista1, lista2)<br>\n",
    "dicionario = dict(lista_tuplas)"
   ]
  },
  {
   "cell_type": "code",
   "execution_count": 11,
   "id": "4156c9b2",
   "metadata": {},
   "outputs": [
    {
     "name": "stdout",
     "output_type": "stream",
     "text": [
      "{'desodorante': 0, 'farinha': 0, 'mandioca': 0}\n"
     ]
    }
   ],
   "source": [
    "produtos = ['desodorante', 'farinha', 'mandioca']\n",
    "quantidade = [2, 1, 10]\n",
    "dicionario = dict.fromkeys(produtos, 0)\n",
    "print(dicionario)"
   ]
  },
  {
   "cell_type": "code",
   "execution_count": 14,
   "id": "2a296f4f",
   "metadata": {},
   "outputs": [
    {
     "ename": "ValueError",
     "evalue": "dictionary update sequence element #0 has length 11; 2 is required",
     "output_type": "error",
     "traceback": [
      "\u001b[1;31m---------------------------------------------------------------------------\u001b[0m",
      "\u001b[1;31mValueError\u001b[0m                                Traceback (most recent call last)",
      "Input \u001b[1;32mIn [14]\u001b[0m, in \u001b[0;36m<cell line: 3>\u001b[1;34m()\u001b[0m\n\u001b[0;32m      1\u001b[0m produtos \u001b[38;5;241m=\u001b[39m [(\u001b[38;5;124m'\u001b[39m\u001b[38;5;124mdesodorante\u001b[39m\u001b[38;5;124m'\u001b[39m), (\u001b[38;5;124m'\u001b[39m\u001b[38;5;124mfarinha\u001b[39m\u001b[38;5;124m'\u001b[39m), (\u001b[38;5;124m'\u001b[39m\u001b[38;5;124mmandioca\u001b[39m\u001b[38;5;124m'\u001b[39m)]\n\u001b[0;32m      2\u001b[0m quantidade \u001b[38;5;241m=\u001b[39m [\u001b[38;5;241m2\u001b[39m, \u001b[38;5;241m1\u001b[39m, \u001b[38;5;241m10\u001b[39m]\n\u001b[1;32m----> 3\u001b[0m dicionario \u001b[38;5;241m=\u001b[39m \u001b[38;5;28;43mdict\u001b[39;49m\u001b[43m(\u001b[49m\u001b[43mprodutos\u001b[49m\u001b[43m)\u001b[49m\n\u001b[0;32m      4\u001b[0m \u001b[38;5;28mprint\u001b[39m(dicionario)\n",
      "\u001b[1;31mValueError\u001b[0m: dictionary update sequence element #0 has length 11; 2 is required"
     ]
    }
   ],
   "source": [
    "produtos = [('desodorante'), ('farinha'), ('mandioca')]\n",
    "quantidade = [2, 1, 10]\n",
    "dicionario = dict(produtos)\n",
    "print(dicionario)"
   ]
  },
  {
   "cell_type": "code",
   "execution_count": 28,
   "id": "0812f2d9",
   "metadata": {},
   "outputs": [
    {
     "name": "stdout",
     "output_type": "stream",
     "text": [
      "('desodorante', 2)\n",
      "('farinha', 1)\n",
      "('mandioca', 10)\n",
      "{}\n"
     ]
    }
   ],
   "source": [
    "produtos = ['desodorante', 'farinha', 'mandioca']\n",
    "quantidade = [2, 1, 10]\n",
    "\n",
    "lista_tuplas = zip(produtos, quantidade)\n",
    "\n",
    "for item in lista_tuplas:\n",
    "    print(item)\n",
    "    \n",
    "dicionario_vendas = dict(lista_tuplas)\n",
    "print(dicionario_vendas)"
   ]
  },
  {
   "cell_type": "code",
   "execution_count": 27,
   "id": "36608178",
   "metadata": {},
   "outputs": [
    {
     "name": "stdout",
     "output_type": "stream",
     "text": [
      "{'desodorante': 2, 'farinha': 1, 'mandioca': 10}\n"
     ]
    }
   ],
   "source": [
    "produtos = ['desodorante', 'farinha', 'mandioca']\n",
    "quantidade = [2, 1, 10]\n",
    "\n",
    "lista_tuplas = zip(produtos, quantidade)\n",
    "\n",
    "    \n",
    "dicionario_vendas = dict(lista_tuplas)\n",
    "print(dicionario_vendas)"
   ]
  },
  {
   "cell_type": "code",
   "execution_count": null,
   "id": "35a33db8",
   "metadata": {},
   "outputs": [],
   "source": []
  }
 ],
 "metadata": {
  "kernelspec": {
   "display_name": "Python 3 (ipykernel)",
   "language": "python",
   "name": "python3"
  },
  "language_info": {
   "codemirror_mode": {
    "name": "ipython",
    "version": 3
   },
   "file_extension": ".py",
   "mimetype": "text/x-python",
   "name": "python",
   "nbconvert_exporter": "python",
   "pygments_lexer": "ipython3",
   "version": "3.9.12"
  }
 },
 "nbformat": 4,
 "nbformat_minor": 5
}

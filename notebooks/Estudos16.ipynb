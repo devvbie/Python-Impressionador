{
 "cells": [
  {
   "cell_type": "markdown",
   "id": "deb17bdf",
   "metadata": {},
   "source": [
    "# Iterable\n",
    "estrutura com informações que podemos percorrer, iterar. Onde podemos fazer um for<br>\n",
    "listas<br>\n",
    "strings<br>\n",
    "tuplas<br>\n",
    "dicionario<br>\n",
    "<br>\n",
    "range - range(tamanho); range(inicio, fim); range(inicio, fim, passo)<br> \n",
    "<br>\n",
    "set - lista sem ordem mas que não tem valores duplicados"
   ]
  },
  {
   "cell_type": "code",
   "execution_count": 6,
   "id": "f7094607",
   "metadata": {},
   "outputs": [
    {
     "name": "stdout",
     "output_type": "stream",
     "text": [
      "desodorante : 2\n",
      "farinha : 1\n",
      "mandioca : 10\n",
      "condicionador : 2\n",
      "range(1, 3)\n",
      "1\n",
      "2\n"
     ]
    }
   ],
   "source": [
    "produtos = ['desodorante', 'farinha', 'mandioca', 'condicionador', ]\n",
    "qtd = [2, 1, 10, 2]\n",
    "\n",
    "for i in range(4):\n",
    "    print(\"{} : {}\".format(produtos[i], qtd[i]))\n",
    "\n",
    "print(range(1, 3))\n",
    "\n",
    "for i in range(1, 3):\n",
    "    print(i)\n",
    "\n"
   ]
  },
  {
   "cell_type": "code",
   "execution_count": 7,
   "id": "fe056f95",
   "metadata": {},
   "outputs": [
    {
     "name": "stdout",
     "output_type": "stream",
     "text": [
      "0\n",
      "10\n",
      "20\n",
      "30\n",
      "40\n",
      "50\n",
      "60\n",
      "70\n",
      "80\n",
      "90\n"
     ]
    }
   ],
   "source": [
    "for i in range(0, 100, 10):\n",
    "    print(i)"
   ]
  },
  {
   "cell_type": "code",
   "execution_count": 9,
   "id": "d6160d65",
   "metadata": {},
   "outputs": [
    {
     "name": "stdout",
     "output_type": "stream",
     "text": [
      "{'valor4', 'valor5', 'valor1', 'valor3', 'valor2'}\n"
     ]
    }
   ],
   "source": [
    "meu_set = {'valor1', 'valor2', 'valor3', 'valor4', 'valor5'}\n",
    "print(meu_set)"
   ]
  },
  {
   "cell_type": "code",
   "execution_count": 13,
   "id": "4388f14b",
   "metadata": {},
   "outputs": [
    {
     "name": "stdout",
     "output_type": "stream",
     "text": [
      "12\n",
      "5\n",
      "['b', 'e', 'd', 'a', 'c']\n"
     ]
    }
   ],
   "source": [
    "lista = ['a', 'b', 'c', 'd', 'e', 'e', 'a', 'b', 'c', 'd', 'e', 'a']\n",
    "print(len(lista))\n",
    "set_lista = set(lista)\n",
    "print(len(set_lista))\n",
    "\n",
    "lista_novamente = list(set_lista)\n",
    "print(lista_novamente)"
   ]
  },
  {
   "cell_type": "code",
   "execution_count": null,
   "id": "594e214e",
   "metadata": {},
   "outputs": [],
   "source": []
  }
 ],
 "metadata": {
  "kernelspec": {
   "display_name": "Python 3 (ipykernel)",
   "language": "python",
   "name": "python3"
  },
  "language_info": {
   "codemirror_mode": {
    "name": "ipython",
    "version": 3
   },
   "file_extension": ".py",
   "mimetype": "text/x-python",
   "name": "python",
   "nbconvert_exporter": "python",
   "pygments_lexer": "ipython3",
   "version": "3.9.12"
  }
 },
 "nbformat": 4,
 "nbformat_minor": 5
}

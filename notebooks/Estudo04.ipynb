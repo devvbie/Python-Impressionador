{
 "cells": [
  {
   "cell_type": "markdown",
   "id": "dd53316c",
   "metadata": {},
   "source": [
    "# Elif"
   ]
  },
  {
   "cell_type": "code",
   "execution_count": null,
   "id": "5e4b97d5",
   "metadata": {
    "scrolled": true
   },
   "outputs": [],
   "source": [
    "if condicao1:\n",
    "    instrucao 1\n",
    "elif condicao2:\n",
    "    instrucao 2\n",
    "else:\n",
    "    instrucao 3"
   ]
  },
  {
   "cell_type": "code",
   "execution_count": 7,
   "id": "8782ef58",
   "metadata": {},
   "outputs": [
    {
     "name": "stdout",
     "output_type": "stream",
     "text": [
      "Digite o numero: 1\n",
      "É o número 1.\n"
     ]
    }
   ],
   "source": [
    "num = int(input(\"Digite o numero: \"))\n",
    "if num == 0:\n",
    "    print(\"É o número 0.\")\n",
    "elif num == 1:\n",
    "    print(\"É o número 1.\")\n",
    "else: \n",
    "    print(\"Não é 0 nem 1.\")"
   ]
  },
  {
   "cell_type": "markdown",
   "id": "23120a53",
   "metadata": {},
   "source": [
    "# Comparadores\n",
    "'==' igual<br>\n",
    "'!=' diferente<br>\n",
    "'>' maior que (>= maior ou igual)<br>\n",
    "'<' menor que (<= menor ou igual)<br>\n",
    "'in' texto existe dentro de outro texto<br>\n",
    "'not' verifica o contrário da comparação<br>\n",
    "\n",
    "\n",
    "pass não executa instrução, apenas continua"
   ]
  },
  {
   "cell_type": "markdown",
   "id": "fd161a1c",
   "metadata": {},
   "source": [
    "AND<br>\n",
    "OR ||<br>\n",
    "\n",
    "\n",
    "Para condições. Por exemplo:"
   ]
  },
  {
   "cell_type": "code",
   "execution_count": 7,
   "id": "726f9aed",
   "metadata": {},
   "outputs": [
    {
     "name": "stdout",
     "output_type": "stream",
     "text": [
      "Numeros positivos.\n",
      "Um dos numeros é positivo\n"
     ]
    }
   ],
   "source": [
    "a = 2\n",
    "b = 3\n",
    "\n",
    "if a > 0 and b > 0:\n",
    "    print(\"Numeros positivos.\")\n",
    "    \n",
    "a = -1\n",
    "\n",
    "if a > 0 and b > 0:\n",
    "    print(\"Ambos os numeros positivos\")\n",
    "\n",
    "if a > 0 or b > 0:\n",
    "    print(\"Um dos numeros é positivo\")"
   ]
  },
  {
   "cell_type": "code",
   "execution_count": 11,
   "id": "0bbc73e4",
   "metadata": {},
   "outputs": [
    {
     "name": "stdout",
     "output_type": "stream",
     "text": [
      "Entra aqui.\n",
      "Entra aqui.\n"
     ]
    }
   ],
   "source": [
    "if 0:\n",
    "    print(\"Nao entra aqui.\")\n",
    "\n",
    "if 1:\n",
    "    print(\"Entra aqui.\")\n",
    "    \n",
    "if \"\":\n",
    "    print(\"Nao entra aqui.\")\n",
    "\n",
    "if \"1\":\n",
    "    print(\"Entra aqui.\")"
   ]
  },
  {
   "cell_type": "code",
   "execution_count": null,
   "id": "1a489293",
   "metadata": {},
   "outputs": [],
   "source": []
  }
 ],
 "metadata": {
  "kernelspec": {
   "display_name": "Python 3 (ipykernel)",
   "language": "python",
   "name": "python3"
  },
  "language_info": {
   "codemirror_mode": {
    "name": "ipython",
    "version": 3
   },
   "file_extension": ".py",
   "mimetype": "text/x-python",
   "name": "python",
   "nbconvert_exporter": "python",
   "pygments_lexer": "ipython3",
   "version": "3.9.12"
  }
 },
 "nbformat": 4,
 "nbformat_minor": 5
}

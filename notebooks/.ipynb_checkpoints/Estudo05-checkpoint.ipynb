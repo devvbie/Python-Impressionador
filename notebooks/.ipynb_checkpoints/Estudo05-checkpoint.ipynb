{
 "cells": [
  {
   "cell_type": "code",
   "execution_count": 5,
   "id": "9a35d62a",
   "metadata": {},
   "outputs": [
    {
     "name": "stdout",
     "output_type": "stream",
     "text": [
      "Devvbie\n",
      "D\n",
      "e\n",
      "v\n",
      "\n",
      "7\n"
     ]
    }
   ],
   "source": [
    "texto = 'Devvbie' #lista de 7 caracteres\n",
    "print(texto)\n",
    "print(texto[0])\n",
    "print(texto[1])\n",
    "print(texto[2])\n",
    "print()\n",
    "print(len(texto))"
   ]
  },
  {
   "cell_type": "code",
   "execution_count": 12,
   "id": "c00e7877",
   "metadata": {},
   "outputs": [
    {
     "name": "stdout",
     "output_type": "stream",
     "text": [
      "D\n",
      "e\n",
      "w\n",
      "b\n",
      "i\n",
      "e\n"
     ]
    }
   ],
   "source": [
    "texto1 = 'Dev'\n",
    "texto2 = 'Newbie'\n",
    "\n",
    "print(texto1[-3])\n",
    "print(texto1[-2])\n",
    "print(texto2[-4])\n",
    "print(texto2[-3])\n",
    "print(texto2[-2])\n",
    "print(texto2[-1])"
   ]
  },
  {
   "cell_type": "code",
   "execution_count": 16,
   "id": "b04ba02c",
   "metadata": {},
   "outputs": [
    {
     "name": "stdout",
     "output_type": "stream",
     "text": [
      "Dev\n",
      "v\n"
     ]
    }
   ],
   "source": [
    "texto1 = 'Dev'\n",
    "texto2 = 'Newbie'\n",
    "\n",
    "print(texto1[:3])\n",
    "print(texto1[:-2])"
   ]
  },
  {
   "cell_type": "code",
   "execution_count": null,
   "id": "f0bd4c00",
   "metadata": {},
   "outputs": [],
   "source": []
  }
 ],
 "metadata": {
  "kernelspec": {
   "display_name": "Python 3 (ipykernel)",
   "language": "python",
   "name": "python3"
  },
  "language_info": {
   "codemirror_mode": {
    "name": "ipython",
    "version": 3
   },
   "file_extension": ".py",
   "mimetype": "text/x-python",
   "name": "python",
   "nbconvert_exporter": "python",
   "pygments_lexer": "ipython3",
   "version": "3.9.12"
  }
 },
 "nbformat": 4,
 "nbformat_minor": 5
}

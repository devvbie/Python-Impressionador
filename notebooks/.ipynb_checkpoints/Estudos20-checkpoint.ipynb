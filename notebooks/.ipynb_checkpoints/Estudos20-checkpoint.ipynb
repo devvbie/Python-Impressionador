{
 "cells": [
  {
   "cell_type": "markdown",
   "id": "d191ba2d",
   "metadata": {},
   "source": [
    "# Docstring e annotations\n",
    "- anotações para especificar o que certa função faz"
   ]
  },
  {
   "cell_type": "code",
   "execution_count": 8,
   "id": "d9ec9606",
   "metadata": {},
   "outputs": [
    {
     "name": "stdout",
     "output_type": "stream",
     "text": [
      "9\n",
      "3\n",
      "3\n"
     ]
    }
   ],
   "source": [
    "def operacoes(num1, num2, op = '+'):\n",
    "    ''' Função que realiza operações aritméticas de soma e subtração\n",
    "    \n",
    "        Parametros:\n",
    "            num1 (int): primeiro número a ser utilizado em uma operação\n",
    "            num2 (int): segundo número a ser utilizado em uma operação            \n",
    "            op (char): operação desejada\n",
    "    \n",
    "        Returns:\n",
    "            soma(int): valor de num1 + num2\n",
    "            subtracao(int): valor de num1 - num2\n",
    "    '''\n",
    "    if op == '+':\n",
    "        return num1 + num2\n",
    "    if op == '-':\n",
    "        return num1 - num2\n",
    "\n",
    "operacao = '-'\n",
    "    \n",
    "print(operacoes(6, 3))\n",
    "print(operacoes(6, 3, operacao))\n",
    "print(operacoes(6, 3, '-'))\n"
   ]
  },
  {
   "attachments": {
    "image.png": {
     "image/png": "[encoded data removed]"
    }
   },
   "cell_type": "markdown",
   "id": "b42f108f",
   "metadata": {},
   "source": [
    "![image.png](attachment:image.png)"
   ]
  },
  {
   "cell_type": "code",
   "execution_count": 17,
   "id": "fd3ce761",
   "metadata": {},
   "outputs": [
    {
     "name": "stdout",
     "output_type": "stream",
     "text": [
      "9\n",
      "3\n",
      "3\n"
     ]
    }
   ],
   "source": [
    "def operacoes(num1: int, num2: int, op : str = '+', teste : 'apenas enchendo linguica' = 1):\n",
    "    ''' Função que realiza operações aritméticas de soma e subtração\n",
    "    \n",
    "        Parametros:\n",
    "            num1 (int): primeiro número a ser utilizado em uma operação\n",
    "            num2 (int): segundo número a ser utilizado em uma operação            \n",
    "            op (char): operação desejada\n",
    "    \n",
    "        Returns:\n",
    "            soma(int): valor de num1 + num2\n",
    "            subtracao(int): valor de num1 - num2\n",
    "    '''\n",
    "    if op == '+':\n",
    "        return num1 + num2\n",
    "    if op == '-':\n",
    "        return num1 - num2\n",
    "\n",
    "operacao = '-'\n",
    "    \n",
    "print(operacoes(6, 3))\n",
    "print(operacoes(6, 3, operacao))\n",
    "print(operacoes(6, 3, '-'))\n"
   ]
  },
  {
   "cell_type": "markdown",
   "id": "0cc09c10",
   "metadata": {},
   "source": [
    "# exceções e erros em funções"
   ]
  },
  {
   "cell_type": "code",
   "execution_count": null,
   "id": "e0551d01",
   "metadata": {},
   "outputs": [],
   "source": [
    "try:\n",
    "    o que quero tentar fazer\n",
    "except:\n",
    "    o que faço caso de erro"
   ]
  },
  {
   "cell_type": "code",
   "execution_count": 19,
   "id": "f88d264c",
   "metadata": {},
   "outputs": [
    {
     "name": "stdout",
     "output_type": "stream",
     "text": [
      "digite o email: devvbie@gmail.com\n",
      "gmail\n"
     ]
    }
   ],
   "source": [
    "def servidor(email):\n",
    "    posicao = email.index('@')\n",
    "    serv = email[posicao:]\n",
    "    if 'gmail' in serv:\n",
    "        print('gmail')\n",
    "        return\n",
    "    elif 'yahoo' in serv:\n",
    "        print('yahoo')\n",
    "        return\n",
    "    elif 'uol' in serv:\n",
    "        print('uol')\n",
    "        return\n",
    "    elif 'hotmail' in serv or 'outlook' in serv or 'live' in serv:\n",
    "        print('hotmail')\n",
    "        return\n",
    "    else: \n",
    "        print('nao encontrado')\n",
    "        return\n",
    "    \n",
    "email = input(\"digite o email: \")\n",
    "servidor(email)"
   ]
  },
  {
   "cell_type": "code",
   "execution_count": 20,
   "id": "dd3c8490",
   "metadata": {},
   "outputs": [
    {
     "name": "stdout",
     "output_type": "stream",
     "text": [
      "digite o email: devvbiegmail.com\n"
     ]
    },
    {
     "ename": "ValueError",
     "evalue": "substring not found",
     "output_type": "error",
     "traceback": [
      "\u001b[1;31m---------------------------------------------------------------------------\u001b[0m",
      "\u001b[1;31mValueError\u001b[0m                                Traceback (most recent call last)",
      "Input \u001b[1;32mIn [20]\u001b[0m, in \u001b[0;36m<cell line: 21>\u001b[1;34m()\u001b[0m\n\u001b[0;32m     18\u001b[0m         \u001b[38;5;28;01mreturn\u001b[39;00m\n\u001b[0;32m     20\u001b[0m email \u001b[38;5;241m=\u001b[39m \u001b[38;5;28minput\u001b[39m(\u001b[38;5;124m\"\u001b[39m\u001b[38;5;124mdigite o email: \u001b[39m\u001b[38;5;124m\"\u001b[39m)\n\u001b[1;32m---> 21\u001b[0m \u001b[43mservidor\u001b[49m\u001b[43m(\u001b[49m\u001b[43memail\u001b[49m\u001b[43m)\u001b[49m\n",
      "Input \u001b[1;32mIn [20]\u001b[0m, in \u001b[0;36mservidor\u001b[1;34m(email)\u001b[0m\n\u001b[0;32m      1\u001b[0m \u001b[38;5;28;01mdef\u001b[39;00m \u001b[38;5;21mservidor\u001b[39m(email):\n\u001b[1;32m----> 2\u001b[0m     posicao \u001b[38;5;241m=\u001b[39m \u001b[43memail\u001b[49m\u001b[38;5;241;43m.\u001b[39;49m\u001b[43mindex\u001b[49m\u001b[43m(\u001b[49m\u001b[38;5;124;43m'\u001b[39;49m\u001b[38;5;124;43m@\u001b[39;49m\u001b[38;5;124;43m'\u001b[39;49m\u001b[43m)\u001b[49m\n\u001b[0;32m      3\u001b[0m     serv \u001b[38;5;241m=\u001b[39m email[posicao:]\n\u001b[0;32m      4\u001b[0m     \u001b[38;5;28;01mif\u001b[39;00m \u001b[38;5;124m'\u001b[39m\u001b[38;5;124mgmail\u001b[39m\u001b[38;5;124m'\u001b[39m \u001b[38;5;129;01min\u001b[39;00m serv:\n",
      "\u001b[1;31mValueError\u001b[0m: substring not found"
     ]
    }
   ],
   "source": [
    "def servidor(email):\n",
    "    posicao = email.index('@')\n",
    "    serv = email[posicao:]\n",
    "    if 'gmail' in serv:\n",
    "        print('gmail')\n",
    "        return\n",
    "    elif 'yahoo' in serv:\n",
    "        print('yahoo')\n",
    "        return\n",
    "    elif 'uol' in serv:\n",
    "        print('uol')\n",
    "        return\n",
    "    elif 'hotmail' in serv or 'outlook' in serv or 'live' in serv:\n",
    "        print('hotmail')\n",
    "        return\n",
    "    else: \n",
    "        print('nao encontrado')\n",
    "        return\n",
    "    \n",
    "email = input(\"digite o email: \")\n",
    "servidor(email)\n"
   ]
  },
  {
   "cell_type": "code",
   "execution_count": 23,
   "id": "9a13292f",
   "metadata": {},
   "outputs": [
    {
     "name": "stdout",
     "output_type": "stream",
     "text": [
      "digite o email: liragmail.com\n",
      "Digite o email novamente.\n",
      "None\n"
     ]
    }
   ],
   "source": [
    "def servidor(email):\n",
    "    try:\n",
    "        posicao = email.index('@')\n",
    "        serv = email[posicao:]\n",
    "        if 'gmail' in serv:\n",
    "            print('gmail')\n",
    "            return\n",
    "        elif 'yahoo' in serv:\n",
    "            print('yahoo')\n",
    "            return\n",
    "        elif 'uol' in serv:\n",
    "            print('uol')\n",
    "            return\n",
    "        elif 'hotmail' in serv or 'outlook' in serv or 'live' in serv:\n",
    "            print('hotmail')\n",
    "            return\n",
    "        else: \n",
    "            print('nao encontrado')\n",
    "            return\n",
    "    except:\n",
    "        print(\"Digite o email novamente.\")\n",
    "\n",
    "\n",
    "        \n",
    "email = input(\"digite o email: \")\n",
    "print(servidor(email))"
   ]
  },
  {
   "cell_type": "markdown",
   "id": "678af0f5",
   "metadata": {},
   "source": [
    "# Cuidado ao identificar o erro no except!"
   ]
  },
  {
   "cell_type": "code",
   "execution_count": 25,
   "id": "d8e7b00d",
   "metadata": {},
   "outputs": [
    {
     "name": "stdout",
     "output_type": "stream",
     "text": [
      "digite o email: liragmail.com\n"
     ]
    },
    {
     "ename": "Exception",
     "evalue": "E-mail não possui @. Digite o email novamente.",
     "output_type": "error",
     "traceback": [
      "\u001b[1;31m---------------------------------------------------------------------------\u001b[0m",
      "\u001b[1;31mValueError\u001b[0m                                Traceback (most recent call last)",
      "Input \u001b[1;32mIn [25]\u001b[0m, in \u001b[0;36mservidor\u001b[1;34m(email)\u001b[0m\n\u001b[0;32m      2\u001b[0m \u001b[38;5;28;01mtry\u001b[39;00m:\n\u001b[1;32m----> 3\u001b[0m     posicao \u001b[38;5;241m=\u001b[39m \u001b[43memail\u001b[49m\u001b[38;5;241;43m.\u001b[39;49m\u001b[43mindex\u001b[49m\u001b[43m(\u001b[49m\u001b[38;5;124;43m'\u001b[39;49m\u001b[38;5;124;43m@\u001b[39;49m\u001b[38;5;124;43m'\u001b[39;49m\u001b[43m)\u001b[49m\n\u001b[0;32m      4\u001b[0m     serv \u001b[38;5;241m=\u001b[39m email[posicao:]\n",
      "\u001b[1;31mValueError\u001b[0m: substring not found",
      "\nDuring handling of the above exception, another exception occurred:\n",
      "\u001b[1;31mException\u001b[0m                                 Traceback (most recent call last)",
      "Input \u001b[1;32mIn [25]\u001b[0m, in \u001b[0;36m<cell line: 26>\u001b[1;34m()\u001b[0m\n\u001b[0;32m     21\u001b[0m         \u001b[38;5;28;01mraise\u001b[39;00m \u001b[38;5;167;01mException\u001b[39;00m(\u001b[38;5;124m\"\u001b[39m\u001b[38;5;124mE-mail não possui @. Digite o email novamente.\u001b[39m\u001b[38;5;124m\"\u001b[39m)\n\u001b[0;32m     25\u001b[0m email \u001b[38;5;241m=\u001b[39m \u001b[38;5;28minput\u001b[39m(\u001b[38;5;124m\"\u001b[39m\u001b[38;5;124mdigite o email: \u001b[39m\u001b[38;5;124m\"\u001b[39m)\n\u001b[1;32m---> 26\u001b[0m \u001b[38;5;28mprint\u001b[39m(\u001b[43mservidor\u001b[49m\u001b[43m(\u001b[49m\u001b[43memail\u001b[49m\u001b[43m)\u001b[49m)\n",
      "Input \u001b[1;32mIn [25]\u001b[0m, in \u001b[0;36mservidor\u001b[1;34m(email)\u001b[0m\n\u001b[0;32m     19\u001b[0m         \u001b[38;5;28;01mreturn\u001b[39;00m\n\u001b[0;32m     20\u001b[0m \u001b[38;5;28;01mexcept\u001b[39;00m:\n\u001b[1;32m---> 21\u001b[0m     \u001b[38;5;28;01mraise\u001b[39;00m \u001b[38;5;167;01mException\u001b[39;00m(\u001b[38;5;124m\"\u001b[39m\u001b[38;5;124mE-mail não possui @. Digite o email novamente.\u001b[39m\u001b[38;5;124m\"\u001b[39m)\n",
      "\u001b[1;31mException\u001b[0m: E-mail não possui @. Digite o email novamente."
     ]
    }
   ],
   "source": [
    "def servidor(email):\n",
    "    try:\n",
    "        posicao = email.index('@')\n",
    "        serv = email[posicao:]\n",
    "        if 'gmail' in serv:\n",
    "            print('gmail')\n",
    "            return\n",
    "        elif 'yahoo' in serv:\n",
    "            print('yahoo')\n",
    "            return\n",
    "        elif 'uol' in serv:\n",
    "            print('uol')\n",
    "            return\n",
    "        elif 'hotmail' in serv or 'outlook' in serv or 'live' in serv:\n",
    "            print('hotmail')\n",
    "            return\n",
    "        else: \n",
    "            print('nao encontrado')\n",
    "            return\n",
    "    except:\n",
    "        raise Exception(\"E-mail não possui @. Digite o email novamente.\")\n",
    "\n",
    "\n",
    "        \n",
    "email = input(\"digite o email: \")\n",
    "print(servidor(email))"
   ]
  },
  {
   "cell_type": "code",
   "execution_count": 33,
   "id": "6a4ebf94",
   "metadata": {},
   "outputs": [
    {
     "ename": "TypeError",
     "evalue": "",
     "output_type": "error",
     "traceback": [
      "\u001b[1;31m---------------------------------------------------------------------------\u001b[0m",
      "\u001b[1;31mTypeError\u001b[0m                                 Traceback (most recent call last)",
      "Input \u001b[1;32mIn [33]\u001b[0m, in \u001b[0;36m<cell line: 1>\u001b[1;34m()\u001b[0m\n\u001b[1;32m----> 1\u001b[0m \u001b[38;5;28;01mraise\u001b[39;00m \u001b[38;5;167;01mTypeError\u001b[39;00m()\n\u001b[0;32m      2\u001b[0m \u001b[38;5;28;01mraise\u001b[39;00m \u001b[38;5;167;01mValueError\u001b[39;00m()\n\u001b[0;32m      3\u001b[0m \u001b[38;5;28;01mraise\u001b[39;00m \u001b[38;5;167;01mZeroDivisionError\u001b[39;00m()\n",
      "\u001b[1;31mTypeError\u001b[0m: "
     ]
    }
   ],
   "source": [
    "raise TypeError()\n",
    "raise ValueError()\n",
    "raise ZeroDivisionError()\n",
    "\n",
    "# e tem mais!! (ver na cartilha)"
   ]
  },
  {
   "cell_type": "code",
   "execution_count": 34,
   "id": "0effe8a8",
   "metadata": {},
   "outputs": [
    {
     "name": "stdout",
     "output_type": "stream",
     "text": [
      "digite o email: liragmail.com\n"
     ]
    },
    {
     "ename": "ValueError",
     "evalue": "E-mail não possui @. Digite o email novamente.",
     "output_type": "error",
     "traceback": [
      "\u001b[1;31m---------------------------------------------------------------------------\u001b[0m",
      "\u001b[1;31mValueError\u001b[0m                                Traceback (most recent call last)",
      "Input \u001b[1;32mIn [34]\u001b[0m, in \u001b[0;36mservidor\u001b[1;34m(email)\u001b[0m\n\u001b[0;32m      2\u001b[0m \u001b[38;5;28;01mtry\u001b[39;00m:\n\u001b[1;32m----> 3\u001b[0m     posicao \u001b[38;5;241m=\u001b[39m \u001b[43memail\u001b[49m\u001b[38;5;241;43m.\u001b[39;49m\u001b[43mindex\u001b[49m\u001b[43m(\u001b[49m\u001b[38;5;124;43m'\u001b[39;49m\u001b[38;5;124;43m@\u001b[39;49m\u001b[38;5;124;43m'\u001b[39;49m\u001b[43m)\u001b[49m\n\u001b[0;32m      4\u001b[0m     serv \u001b[38;5;241m=\u001b[39m email[posicao:]\n",
      "\u001b[1;31mValueError\u001b[0m: substring not found",
      "\nDuring handling of the above exception, another exception occurred:\n",
      "\u001b[1;31mValueError\u001b[0m                                Traceback (most recent call last)",
      "Input \u001b[1;32mIn [34]\u001b[0m, in \u001b[0;36m<cell line: 26>\u001b[1;34m()\u001b[0m\n\u001b[0;32m     21\u001b[0m         \u001b[38;5;28;01mraise\u001b[39;00m \u001b[38;5;167;01mValueError\u001b[39;00m(\u001b[38;5;124m\"\u001b[39m\u001b[38;5;124mE-mail não possui @. Digite o email novamente.\u001b[39m\u001b[38;5;124m\"\u001b[39m)\n\u001b[0;32m     25\u001b[0m email \u001b[38;5;241m=\u001b[39m \u001b[38;5;28minput\u001b[39m(\u001b[38;5;124m\"\u001b[39m\u001b[38;5;124mdigite o email: \u001b[39m\u001b[38;5;124m\"\u001b[39m)\n\u001b[1;32m---> 26\u001b[0m \u001b[38;5;28mprint\u001b[39m(\u001b[43mservidor\u001b[49m\u001b[43m(\u001b[49m\u001b[43memail\u001b[49m\u001b[43m)\u001b[49m)\n",
      "Input \u001b[1;32mIn [34]\u001b[0m, in \u001b[0;36mservidor\u001b[1;34m(email)\u001b[0m\n\u001b[0;32m     19\u001b[0m         \u001b[38;5;28;01mreturn\u001b[39;00m\n\u001b[0;32m     20\u001b[0m \u001b[38;5;28;01mexcept\u001b[39;00m:\n\u001b[1;32m---> 21\u001b[0m     \u001b[38;5;28;01mraise\u001b[39;00m \u001b[38;5;167;01mValueError\u001b[39;00m(\u001b[38;5;124m\"\u001b[39m\u001b[38;5;124mE-mail não possui @. Digite o email novamente.\u001b[39m\u001b[38;5;124m\"\u001b[39m)\n",
      "\u001b[1;31mValueError\u001b[0m: E-mail não possui @. Digite o email novamente."
     ]
    }
   ],
   "source": [
    "def servidor(email):\n",
    "    try:\n",
    "        posicao = email.index('@')\n",
    "        serv = email[posicao:]\n",
    "        if 'gmail' in serv:\n",
    "            print('gmail')\n",
    "            return\n",
    "        elif 'yahoo' in serv:\n",
    "            print('yahoo')\n",
    "            return\n",
    "        elif 'uol' in serv:\n",
    "            print('uol')\n",
    "            return\n",
    "        elif 'hotmail' in serv or 'outlook' in serv or 'live' in serv:\n",
    "            print('hotmail')\n",
    "            return\n",
    "        else: \n",
    "            print('nao encontrado')\n",
    "            return\n",
    "    except:\n",
    "        raise ValueError(\"E-mail não possui @. Digite o email novamente.\")\n",
    "\n",
    "\n",
    "        \n",
    "email = input(\"digite o email: \")\n",
    "print(servidor(email))"
   ]
  },
  {
   "cell_type": "markdown",
   "id": "e5dd08cb",
   "metadata": {},
   "source": [
    "# Tratamento completo"
   ]
  },
  {
   "cell_type": "code",
   "execution_count": null,
   "id": "39a5b1a3",
   "metadata": {},
   "outputs": [],
   "source": [
    "try:\n",
    "    tente fazer isso\n",
    "except ErroEspecifico:\n",
    "    deu esse erro aqui que era esperado\n",
    "\n",
    "else:\n",
    "    caso nao de o erro esperado rode isso\n",
    "finally:\n",
    "    independente do que acontecer, faça isso\n",
    "    "
   ]
  },
  {
   "cell_type": "code",
   "execution_count": 37,
   "id": "b4dfd885",
   "metadata": {},
   "outputs": [
    {
     "name": "stdout",
     "output_type": "stream",
     "text": [
      "1.0\n",
      "funcao finalizada\n",
      "\n",
      "divisao por zero, valores inválidos\n",
      "funcao finalizada\n"
     ]
    }
   ],
   "source": [
    "def divisao(num1, num2):\n",
    "    try:\n",
    "        div = num1/num2\n",
    "        \n",
    "    except ZeroDivisionError:\n",
    "        print(\"divisao por zero, valores inválidos\")\n",
    "\n",
    "    # pode criar outros excepts com diferentes erros! \n",
    "        \n",
    "    else: # a vantagem do else é isolar a linha de codigo que pode dar erro!\n",
    "        print(div)\n",
    "    finally:\n",
    "        print(\"funcao finalizada\")\n",
    "    \n",
    "divisao(1, 1)\n",
    "print()\n",
    "divisao(1, 0)"
   ]
  },
  {
   "cell_type": "markdown",
   "id": "0df6e4a3",
   "metadata": {},
   "source": [
    "# Quantidade indefinidas de argumentos\n",
    "* Quando quiser permitir uma quantidade indefinida de argumentos, utilize o * para isso\n",
    "* ex: print()"
   ]
  },
  {
   "cell_type": "code",
   "execution_count": null,
   "id": "79edaed3",
   "metadata": {},
   "outputs": [],
   "source": [
    "*args para positional arguments -> argumentos vem como tupla\n",
    "\n",
    "def funcao(*args):\n",
    "    ...\n",
    "    \n",
    "**kwargs para keyword arguments -> argumentos vem como dicionario\n",
    "\n",
    "def funcao(**kwargs):\n",
    "    ..."
   ]
  },
  {
   "cell_type": "code",
   "execution_count": 39,
   "id": "cb52d413",
   "metadata": {},
   "outputs": [
    {
     "data": {
      "text/plain": [
       "10"
      ]
     },
     "execution_count": 39,
     "metadata": {},
     "output_type": "execute_result"
    }
   ],
   "source": [
    "def somar(*numeros):\n",
    "    soma = 0\n",
    "    for num in numeros:\n",
    "        soma += num\n",
    "    return soma\n",
    "\n",
    "somar(1, 5, 2, 3, -1)"
   ]
  },
  {
   "cell_type": "code",
   "execution_count": 40,
   "id": "08c2a471",
   "metadata": {},
   "outputs": [
    {
     "name": "stdout",
     "output_type": "stream",
     "text": [
      "(1, 5, 2, 3, -1)\n"
     ]
    },
    {
     "data": {
      "text/plain": [
       "10"
      ]
     },
     "execution_count": 40,
     "metadata": {},
     "output_type": "execute_result"
    }
   ],
   "source": [
    "def somar(*numeros):\n",
    "    print(numeros)\n",
    "    soma = 0\n",
    "    for num in numeros:\n",
    "        soma += num\n",
    "    return soma\n",
    "\n",
    "somar(1, 5, 2, 3, -1) #torna tupla!"
   ]
  },
  {
   "cell_type": "code",
   "execution_count": 48,
   "id": "0691c4c4",
   "metadata": {},
   "outputs": [
    {
     "name": "stdout",
     "output_type": "stream",
     "text": [
      "{'num1': 1, 'num2': 5, 'num3': 2, 'num4': 3, 'num5': -1}\n",
      "10\n"
     ]
    }
   ],
   "source": [
    "def somar(**numeros):\n",
    "    soma = 0\n",
    "    print(numeros)\n",
    "    for num in numeros:\n",
    "        soma += numeros[num]\n",
    "    print(soma)\n",
    "    return\n",
    "\n",
    "somar(num1 = 1, num2 = 5, num3 = 2, num4 = 3, num5 = -1) #torna dicio"
   ]
  },
  {
   "cell_type": "markdown",
   "id": "30bf9317",
   "metadata": {},
   "source": [
    "# Ordem dos Argumentos\n",
    "- Primeiro os positional arguments vem antes e depois os keywords arguments\n",
    "- Argumentos individuais vem antes e depois os multiplos"
   ]
  },
  {
   "cell_type": "code",
   "execution_count": null,
   "id": "d205f5f9",
   "metadata": {},
   "outputs": [],
   "source": [
    "def funcao(arg1, arg2, *args, k = kwarg1, k2 = kwarg2, k3 = kwarg3, **kwargs)\n",
    "    ..."
   ]
  },
  {
   "cell_type": "code",
   "execution_count": 50,
   "id": "69122ad9",
   "metadata": {},
   "outputs": [
    {
     "ename": "TypeError",
     "evalue": "somar() missing 1 required keyword-only argument: 'num1'",
     "output_type": "error",
     "traceback": [
      "\u001b[1;31m---------------------------------------------------------------------------\u001b[0m",
      "\u001b[1;31mTypeError\u001b[0m                                 Traceback (most recent call last)",
      "Input \u001b[1;32mIn [50]\u001b[0m, in \u001b[0;36m<cell line: 8>\u001b[1;34m()\u001b[0m\n\u001b[0;32m      5\u001b[0m     soma \u001b[38;5;241m+\u001b[39m\u001b[38;5;241m=\u001b[39m num1\n\u001b[0;32m      6\u001b[0m     \u001b[38;5;28;01mreturn\u001b[39;00m soma\n\u001b[1;32m----> 8\u001b[0m \u001b[38;5;28mprint\u001b[39m(\u001b[43msomar\u001b[49m\u001b[43m(\u001b[49m\u001b[38;5;241;43m3\u001b[39;49m\u001b[43m,\u001b[49m\u001b[43m \u001b[49m\u001b[38;5;241;43m5\u001b[39;49m\u001b[43m,\u001b[49m\u001b[43m \u001b[49m\u001b[38;5;241;43m8\u001b[39;49m\u001b[43m)\u001b[49m)\n",
      "\u001b[1;31mTypeError\u001b[0m: somar() missing 1 required keyword-only argument: 'num1'"
     ]
    }
   ],
   "source": [
    "def somar(*numeros, num1):\n",
    "    soma = 0\n",
    "    for numero in numeros:\n",
    "        soma += 0\n",
    "    soma += num1\n",
    "    return soma\n",
    "\n",
    "print(somar(3, 5, 8))"
   ]
  },
  {
   "cell_type": "code",
   "execution_count": null,
   "id": "7cafa90e",
   "metadata": {},
   "outputs": [],
   "source": [
    "def somar(*numeros, num1):\n",
    "    soma = 0\n",
    "    for numero in numeros:\n",
    "        soma += 0\n",
    "    soma += num1\n",
    "    return soma\n",
    "\n",
    "print(somar(3, 5, num1 = 8))"
   ]
  }
 ],
 "metadata": {
  "kernelspec": {
   "display_name": "Python 3 (ipykernel)",
   "language": "python",
   "name": "python3"
  },
  "language_info": {
   "codemirror_mode": {
    "name": "ipython",
    "version": 3
   },
   "file_extension": ".py",
   "mimetype": "text/x-python",
   "name": "python",
   "nbconvert_exporter": "python",
   "pygments_lexer": "ipython3",
   "version": "3.9.12"
  }
 },
 "nbformat": 4,
 "nbformat_minor": 5
}

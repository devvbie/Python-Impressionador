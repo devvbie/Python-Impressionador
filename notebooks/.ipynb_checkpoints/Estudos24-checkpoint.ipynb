{
 "cells": [
  {
   "cell_type": "markdown",
   "id": "9f8135a1",
   "metadata": {},
   "source": [
    "# List Comprehension\n",
    "- Forma de percorrer todos os itens de uma lista de forma mais direta\n",
    "\n",
    "lista = [ expressão for item in iterable ]"
   ]
  },
  {
   "cell_type": "code",
   "execution_count": 2,
   "id": "307ae86c",
   "metadata": {},
   "outputs": [
    {
     "ename": "SyntaxError",
     "evalue": "invalid syntax (146068692.py, line 5)",
     "output_type": "error",
     "traceback": [
      "\u001b[1;36m  Input \u001b[1;32mIn [2]\u001b[1;36m\u001b[0m\n\u001b[1;33m    if item not '0' and item not '1':\u001b[0m\n\u001b[1;37m                ^\u001b[0m\n\u001b[1;31mSyntaxError\u001b[0m\u001b[1;31m:\u001b[0m invalid syntax\n"
     ]
    }
   ],
   "source": [
    "binario = [2, 4, 0, 8, 0, 7] \n",
    "diferentes = []\n",
    "\n",
    "for item in binario:\n",
    "        if item != 0 and item != 1:\n",
    "            diferentes.append(item)\n",
    "\n",
    "print(diferentes)"
   ]
  },
  {
   "cell_type": "code",
   "execution_count": null,
   "id": "3cc3bc04",
   "metadata": {},
   "outputs": [],
   "source": []
  }
 ],
 "metadata": {
  "kernelspec": {
   "display_name": "Python 3 (ipykernel)",
   "language": "python",
   "name": "python3"
  },
  "language_info": {
   "codemirror_mode": {
    "name": "ipython",
    "version": 3
   },
   "file_extension": ".py",
   "mimetype": "text/x-python",
   "name": "python",
   "nbconvert_exporter": "python",
   "pygments_lexer": "ipython3",
   "version": "3.9.12"
  }
 },
 "nbformat": 4,
 "nbformat_minor": 5
}

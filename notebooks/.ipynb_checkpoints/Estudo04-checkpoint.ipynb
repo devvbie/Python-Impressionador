{
 "cells": [
  {
   "cell_type": "markdown",
   "id": "2beaa693",
   "metadata": {},
   "source": [
    "# Elif"
   ]
  },
  {
   "cell_type": "code",
   "execution_count": null,
   "id": "34c81a65",
   "metadata": {
    "scrolled": true
   },
   "outputs": [],
   "source": [
    "if condicao1:\n",
    "    instrucao 1\n",
    "elif condicao2:\n",
    "    instrucao 2\n",
    "else:\n",
    "    instrucao 3"
   ]
  },
  {
   "cell_type": "code",
   "execution_count": 1,
   "id": "8af94cf1",
   "metadata": {},
   "outputs": [
    {
     "name": "stdout",
     "output_type": "stream",
     "text": [
      "Digite o numero: c\n"
     ]
    },
    {
     "ename": "TypeError",
     "evalue": "not all arguments converted during string formatting",
     "output_type": "error",
     "traceback": [
      "\u001b[1;31m---------------------------------------------------------------------------\u001b[0m",
      "\u001b[1;31mTypeError\u001b[0m                                 Traceback (most recent call last)",
      "Input \u001b[1;32mIn [1]\u001b[0m, in \u001b[0;36m<cell line: 2>\u001b[1;34m()\u001b[0m\n\u001b[0;32m      1\u001b[0m num \u001b[38;5;241m=\u001b[39m \u001b[38;5;28minput\u001b[39m(\u001b[38;5;124m\"\u001b[39m\u001b[38;5;124mDigite o numero: \u001b[39m\u001b[38;5;124m\"\u001b[39m)\n\u001b[1;32m----> 2\u001b[0m \u001b[38;5;28;01mif\u001b[39;00m \u001b[43mnum\u001b[49m\u001b[38;5;241;43m%\u001b[39;49m\u001b[38;5;241;43m2\u001b[39;49m \u001b[38;5;241m==\u001b[39m \u001b[38;5;241m0\u001b[39m:\n\u001b[0;32m      3\u001b[0m     \u001b[38;5;28mprint\u001b[39m(\u001b[38;5;124m\"\u001b[39m\u001b[38;5;124mÉ par.\u001b[39m\u001b[38;5;124m\"\u001b[39m)\n\u001b[0;32m      4\u001b[0m \u001b[38;5;28;01melif\u001b[39;00m num\u001b[38;5;241m%\u001b[39m\u001b[38;5;241m2\u001b[39m \u001b[38;5;241m!=\u001b[39m \u001b[38;5;241m0\u001b[39m:\n",
      "\u001b[1;31mTypeError\u001b[0m: not all arguments converted during string formatting"
     ]
    }
   ],
   "source": [
    "num = input(\"Digite o numero: \")\n",
    "if num == 0:\n",
    "    print(\"É o número 0.\")\n",
    "elif num == 1:\n",
    "    printf(\"É o número 1.\")\n",
    "else: \n",
    "    printf(\"Não é 0 nem 1.\")"
   ]
  },
  {
   "cell_type": "code",
   "execution_count": null,
   "id": "a0425e97",
   "metadata": {},
   "outputs": [],
   "source": []
  }
 ],
 "metadata": {
  "kernelspec": {
   "display_name": "Python 3 (ipykernel)",
   "language": "python",
   "name": "python3"
  },
  "language_info": {
   "codemirror_mode": {
    "name": "ipython",
    "version": 3
   },
   "file_extension": ".py",
   "mimetype": "text/x-python",
   "name": "python",
   "nbconvert_exporter": "python",
   "pygments_lexer": "ipython3",
   "version": "3.9.12"
  }
 },
 "nbformat": 4,
 "nbformat_minor": 5
}

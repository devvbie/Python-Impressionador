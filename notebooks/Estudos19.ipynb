{
 "cells": [
  {
   "cell_type": "markdown",
   "id": "15b6a112",
   "metadata": {},
   "source": [
    "# Retornar mais de um objeto\n",
    "- Dá pra retornar mais de um valor utilizando, por padrão, uma tupla com estes valores!"
   ]
  },
  {
   "cell_type": "code",
   "execution_count": 3,
   "id": "343ba8a1",
   "metadata": {},
   "outputs": [
    {
     "name": "stdout",
     "output_type": "stream",
     "text": [
      "(4, 0, 4, 1.0)\n",
      "(10, -6, 16, 0.25)\n"
     ]
    }
   ],
   "source": [
    "def operacoes(num1, num2):\n",
    "    soma = num1 + num2\n",
    "    subtracao = num1 - num2\n",
    "    mult = num1 * num2\n",
    "    div = num1 / num2\n",
    "    return soma, subtracao, mult, div\n",
    "\n",
    "print(operacoes(2, 2))\n",
    "print(operacoes(2, 8))"
   ]
  },
  {
   "cell_type": "code",
   "execution_count": null,
   "id": "9615592f",
   "metadata": {},
   "outputs": [],
   "source": []
  }
 ],
 "metadata": {
  "kernelspec": {
   "display_name": "Python 3 (ipykernel)",
   "language": "python",
   "name": "python3"
  },
  "language_info": {
   "codemirror_mode": {
    "name": "ipython",
    "version": 3
   },
   "file_extension": ".py",
   "mimetype": "text/x-python",
   "name": "python",
   "nbconvert_exporter": "python",
   "pygments_lexer": "ipython3",
   "version": "3.9.12"
  }
 },
 "nbformat": 4,
 "nbformat_minor": 5
}

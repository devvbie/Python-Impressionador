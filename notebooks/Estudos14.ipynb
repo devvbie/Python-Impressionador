{
 "cells": [
  {
   "cell_type": "markdown",
   "id": "8c2143e7",
   "metadata": {},
   "source": [
    "# Dicionários\n",
    "dicionario = {chave: valor, chave: valor...}\n",
    "\n",
    "### Vantagens e desvantagens\n",
    "- não devem ser usados para pegar itens em uma determinada ordem\n",
    "- podem ter valores heterogeneos\n",
    "- chaves são unicas obrigatoriamente\n",
    "- mais intuitivos de trabalhar"
   ]
  },
  {
   "cell_type": "code",
   "execution_count": 3,
   "id": "1236a818",
   "metadata": {},
   "outputs": [
    {
     "name": "stdout",
     "output_type": "stream",
     "text": [
      "capitulos 1 e 2\n",
      "varios livros e ir atras de um curso\n"
     ]
    }
   ],
   "source": [
    "materias = {'compiladores': 'capitulos 1 e 2', 'testes': 'varios livros e ir atras de um curso', 'estrutura de dados':'varios videos e materiais, alem de livros', 'artigo':'ler pesquisas e estudar projetos'}\n",
    "print(materias['compiladores'])\n",
    "print(materias['testes'])"
   ]
  },
  {
   "cell_type": "markdown",
   "id": "88174aa3",
   "metadata": {},
   "source": [
    "### sempre use as chaves"
   ]
  },
  {
   "cell_type": "code",
   "execution_count": 8,
   "id": "f507d559",
   "metadata": {},
   "outputs": [
    {
     "name": "stdout",
     "output_type": "stream",
     "text": [
      "varios livros e ir atras de um curso\n",
      "varios livros e ir atras de um curso\n",
      "None\n"
     ]
    },
    {
     "ename": "KeyError",
     "evalue": "'tesstes'",
     "output_type": "error",
     "traceback": [
      "\u001b[1;31m---------------------------------------------------------------------------\u001b[0m",
      "\u001b[1;31mKeyError\u001b[0m                                  Traceback (most recent call last)",
      "Input \u001b[1;32mIn [8]\u001b[0m, in \u001b[0;36m<cell line: 5>\u001b[1;34m()\u001b[0m\n\u001b[0;32m      3\u001b[0m \u001b[38;5;28mprint\u001b[39m(materias\u001b[38;5;241m.\u001b[39mget(\u001b[38;5;124m'\u001b[39m\u001b[38;5;124mtestes\u001b[39m\u001b[38;5;124m'\u001b[39m))\n\u001b[0;32m      4\u001b[0m \u001b[38;5;28mprint\u001b[39m(materias\u001b[38;5;241m.\u001b[39mget(\u001b[38;5;124m'\u001b[39m\u001b[38;5;124mtesstes\u001b[39m\u001b[38;5;124m'\u001b[39m))\n\u001b[1;32m----> 5\u001b[0m \u001b[38;5;28mprint\u001b[39m(\u001b[43mmaterias\u001b[49m\u001b[43m[\u001b[49m\u001b[38;5;124;43m'\u001b[39;49m\u001b[38;5;124;43mtesstes\u001b[39;49m\u001b[38;5;124;43m'\u001b[39;49m\u001b[43m]\u001b[49m)\n",
      "\u001b[1;31mKeyError\u001b[0m: 'tesstes'"
     ]
    }
   ],
   "source": [
    "materias = {'compiladores': 'capitulos 1 e 2', 'testes': 'varios livros e ir atras de um curso', 'estrutura de dados':'varios videos e materiais, alem de livros', 'artigo':'ler pesquisas e estudar projetos'}\n",
    "print(materias['testes'])\n",
    "print(materias.get('testes'))\n",
    "print(materias.get('tesstes'))\n",
    "print(materias['tesstes'])\n"
   ]
  },
  {
   "cell_type": "code",
   "execution_count": 10,
   "id": "65513c5e",
   "metadata": {},
   "outputs": [
    {
     "name": "stdout",
     "output_type": "stream",
     "text": [
      "nao encontrado\n"
     ]
    }
   ],
   "source": [
    "materias = {'compiladores': 'capitulos 1 e 2', 'testes': 'varios livros e ir atras de um curso', 'estrutura de dados':'varios videos e materiais, alem de livros', 'artigo':'ler pesquisas e estudar projetos'}\n",
    "if 'calculo 1' in materias:\n",
    "    print(materias['calculo 1'])\n",
    "else:\n",
    "    print(\"nao encontrado\")"
   ]
  },
  {
   "cell_type": "code",
   "execution_count": 13,
   "id": "932a46e0",
   "metadata": {},
   "outputs": [
    {
     "name": "stdout",
     "output_type": "stream",
     "text": [
      "capitulos 1 e 2\n"
     ]
    }
   ],
   "source": [
    "materias = {'compiladores': 'capitulos 1 e 2', 'testes': 'varios livros e ir atras de um curso', 'estrutura de dados':'varios videos e materiais, alem de livros', 'artigo':'ler pesquisas e estudar projetos'}\n",
    "if materias.get('compiladores') != None:\n",
    "    print(materias['compiladores'])\n",
    "else:\n",
    "    print(\"nao encontrado\")"
   ]
  },
  {
   "cell_type": "code",
   "execution_count": 17,
   "id": "82affb3a",
   "metadata": {},
   "outputs": [
    {
     "name": "stdout",
     "output_type": "stream",
     "text": [
      "{'saga': 'curso'}\n",
      "{'saga': 'curso', 'faculdade': 'usp'}\n"
     ]
    }
   ],
   "source": [
    "materias = {'compiladores': 'capitulos 1 e 2', 'testes': 'varios livros e ir atras de um curso', 'estrutura de dados':'varios videos e materiais, alem de livros', 'artigo':'ler pesquisas e estudar projetos'}\n",
    "design = {}\n",
    "\n",
    "#adicionar\n",
    "design['saga'] = 'curso'\n",
    "\n",
    "print(design)\n",
    "\n",
    "#adicionar\n",
    "design.update({'faculdade': 'usp'})\n",
    "\n",
    "print(design)\n",
    "\n"
   ]
  },
  {
   "cell_type": "code",
   "execution_count": 21,
   "id": "fc8412e4",
   "metadata": {},
   "outputs": [
    {
     "name": "stdout",
     "output_type": "stream",
     "text": [
      "{'compiladores': 'capitulos 1 e 2', 'testes': 'varios livros e ir atras de um curso', 'estrutura de dados': 'varios videos e materiais, alem de livros', 'artigo': 'ler pesquisas e estudar projetos'}\n",
      "{'compiladores': 'capitulos 1 e 2', 'testes': 'varios livros e ir atras de um curso', 'estrutura de dados': 'varios videos e materiais, alem de livros', 'artigo': 'ler pesquisas e estudar projetos', 'faculdade': 'usp', 'saga': 'curso'}\n",
      "{'compiladores': 'cap 1 2 3', 'testes': 'varios livros e ir atras de um curso', 'estrutura de dados': 'varios videos e materiais, alem de livros', 'artigo': 'ler pesquisas e estudar projetos', 'faculdade': 'usp', 'saga': 'curso'}\n"
     ]
    }
   ],
   "source": [
    "materias = {'compiladores': 'capitulos 1 e 2', 'testes': 'varios livros e ir atras de um curso', 'estrutura de dados':'varios videos e materiais, alem de livros', 'artigo':'ler pesquisas e estudar projetos'}\n",
    "design = {'faculdade': 'usp', 'saga':'curso'}\n",
    "\n",
    "print(materias)\n",
    "materias.update(design)\n",
    "print(materias)\n",
    "materias['compiladores'] = 'cap 1 2 3'\n",
    "print(materias)"
   ]
  },
  {
   "cell_type": "code",
   "execution_count": 25,
   "id": "4ee784e2",
   "metadata": {},
   "outputs": [
    {
     "name": "stdout",
     "output_type": "stream",
     "text": [
      "{'faculdade': 'usp', 'saga': 'curso'}\n",
      "{'faculdade': 'usp'}\n",
      "{}\n",
      "usp\n"
     ]
    }
   ],
   "source": [
    "design = {'faculdade': 'usp', 'saga':'curso'}\n",
    "print(design)\n",
    "del design['saga']\n",
    "print(design)\n",
    "valor = design.pop('faculdade')\n",
    "print(design)\n",
    "print(valor)"
   ]
  },
  {
   "cell_type": "code",
   "execution_count": 26,
   "id": "38f924f9",
   "metadata": {},
   "outputs": [
    {
     "name": "stdout",
     "output_type": "stream",
     "text": [
      "{'faculdade': 'usp', 'saga': 'curso'}\n",
      "{}\n"
     ]
    }
   ],
   "source": [
    "design = {'faculdade': 'usp', 'saga':'curso'}\n",
    "print(design)\n",
    "design.clear()\n",
    "print(design)"
   ]
  },
  {
   "cell_type": "code",
   "execution_count": 27,
   "id": "9e71cdc2",
   "metadata": {},
   "outputs": [
    {
     "name": "stdout",
     "output_type": "stream",
     "text": [
      "{'faculdade': 'usp', 'saga': 'curso'}\n"
     ]
    },
    {
     "ename": "NameError",
     "evalue": "name 'design' is not defined",
     "output_type": "error",
     "traceback": [
      "\u001b[1;31m---------------------------------------------------------------------------\u001b[0m",
      "\u001b[1;31mNameError\u001b[0m                                 Traceback (most recent call last)",
      "Input \u001b[1;32mIn [27]\u001b[0m, in \u001b[0;36m<cell line: 4>\u001b[1;34m()\u001b[0m\n\u001b[0;32m      2\u001b[0m \u001b[38;5;28mprint\u001b[39m(design)\n\u001b[0;32m      3\u001b[0m \u001b[38;5;28;01mdel\u001b[39;00m design\n\u001b[1;32m----> 4\u001b[0m \u001b[38;5;28mprint\u001b[39m(\u001b[43mdesign\u001b[49m)\n",
      "\u001b[1;31mNameError\u001b[0m: name 'design' is not defined"
     ]
    }
   ],
   "source": [
    "design = {'faculdade': 'usp', 'saga':'curso'}\n",
    "print(design)\n",
    "del design\n",
    "print(design)"
   ]
  },
  {
   "cell_type": "code",
   "execution_count": null,
   "id": "7acb5ae6",
   "metadata": {},
   "outputs": [],
   "source": [
    "for chave in dicionario:\n",
    "    faça alguma coisa"
   ]
  },
  {
   "cell_type": "code",
   "execution_count": 30,
   "id": "9ed9727f",
   "metadata": {},
   "outputs": [
    {
     "name": "stdout",
     "output_type": "stream",
     "text": [
      "faculdade: usp\n",
      "saga: curso\n"
     ]
    }
   ],
   "source": [
    "design = {'faculdade': 'usp', 'saga':'curso'}\n",
    "\n",
    "for chave in design:\n",
    "    print('{}: {}'.format(chave, design[chave]))"
   ]
  },
  {
   "cell_type": "code",
   "execution_count": null,
   "id": "16cdb527",
   "metadata": {},
   "outputs": [],
   "source": []
  }
 ],
 "metadata": {
  "kernelspec": {
   "display_name": "Python 3 (ipykernel)",
   "language": "python",
   "name": "python3"
  },
  "language_info": {
   "codemirror_mode": {
    "name": "ipython",
    "version": 3
   },
   "file_extension": ".py",
   "mimetype": "text/x-python",
   "name": "python",
   "nbconvert_exporter": "python",
   "pygments_lexer": "ipython3",
   "version": "3.9.12"
  }
 },
 "nbformat": 4,
 "nbformat_minor": 5
}

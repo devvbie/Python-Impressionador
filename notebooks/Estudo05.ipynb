{
 "cells": [
  {
   "cell_type": "code",
   "execution_count": 5,
   "id": "6f591a4e",
   "metadata": {},
   "outputs": [
    {
     "name": "stdout",
     "output_type": "stream",
     "text": [
      "Devvbie\n",
      "D\n",
      "e\n",
      "v\n",
      "\n",
      "7\n"
     ]
    }
   ],
   "source": [
    "texto = 'Devvbie' #lista de 7 caracteres\n",
    "print(texto)\n",
    "print(texto[0])\n",
    "print(texto[1])\n",
    "print(texto[2])\n",
    "print()\n",
    "print(len(texto))"
   ]
  },
  {
   "cell_type": "code",
   "execution_count": 12,
   "id": "49d725b3",
   "metadata": {},
   "outputs": [
    {
     "name": "stdout",
     "output_type": "stream",
     "text": [
      "D\n",
      "e\n",
      "w\n",
      "b\n",
      "i\n",
      "e\n"
     ]
    }
   ],
   "source": [
    "texto1 = 'Dev'\n",
    "texto2 = 'Newbie'\n",
    "\n",
    "print(texto1[-3])\n",
    "print(texto1[-2])\n",
    "print(texto2[-4])\n",
    "print(texto2[-3])\n",
    "print(texto2[-2])\n",
    "print(texto2[-1])"
   ]
  },
  {
   "cell_type": "code",
   "execution_count": 23,
   "id": "63e18cc4",
   "metadata": {},
   "outputs": [
    {
     "name": "stdout",
     "output_type": "stream",
     "text": [
      "Dev\n",
      "wbie\n",
      "De\n",
      "Newbie\n"
     ]
    }
   ],
   "source": [
    "texto1 = 'Dev'\n",
    "texto2 = 'Newbie'\n",
    "\n",
    "print(texto1[:3])\n",
    "print(texto2[2:])\n",
    "print(texto1[0:2])\n",
    "print(texto2[:])"
   ]
  },
  {
   "cell_type": "code",
   "execution_count": 26,
   "id": "64967bc6",
   "metadata": {},
   "outputs": [
    {
     "ename": "TypeError",
     "evalue": "can only concatenate str (not \"int\") to str",
     "output_type": "error",
     "traceback": [
      "\u001b[1;31m---------------------------------------------------------------------------\u001b[0m",
      "\u001b[1;31mTypeError\u001b[0m                                 Traceback (most recent call last)",
      "Input \u001b[1;32mIn [26]\u001b[0m, in \u001b[0;36m<cell line: 5>\u001b[1;34m()\u001b[0m\n\u001b[0;32m      2\u001b[0m b \u001b[38;5;241m=\u001b[39m \u001b[38;5;241m1\u001b[39m\n\u001b[0;32m      3\u001b[0m c \u001b[38;5;241m=\u001b[39m a \u001b[38;5;241m-\u001b[39m b\n\u001b[1;32m----> 5\u001b[0m \u001b[38;5;28mprint\u001b[39m(\u001b[38;5;124;43m\"\u001b[39;49m\u001b[38;5;124;43mC vale \u001b[39;49m\u001b[38;5;124;43m\"\u001b[39;49m\u001b[43m \u001b[49m\u001b[38;5;241;43m+\u001b[39;49m\u001b[43m \u001b[49m\u001b[43mc\u001b[49m)\n",
      "\u001b[1;31mTypeError\u001b[0m: can only concatenate str (not \"int\") to str"
     ]
    }
   ],
   "source": [
    "a = 5\n",
    "b = 1\n",
    "c = a - b\n",
    "\n",
    "print(\"C vale \" + c)"
   ]
  },
  {
   "cell_type": "code",
   "execution_count": 27,
   "id": "ab0be8f4",
   "metadata": {},
   "outputs": [
    {
     "name": "stdout",
     "output_type": "stream",
     "text": [
      "C vale 4\n"
     ]
    }
   ],
   "source": [
    "a = 5\n",
    "b = 1\n",
    "c = a - b\n",
    "\n",
    "print(\"C vale \" + str(c))"
   ]
  },
  {
   "cell_type": "code",
   "execution_count": 29,
   "id": "937ce2bc",
   "metadata": {},
   "outputs": [
    {
     "name": "stdout",
     "output_type": "stream",
     "text": [
      "C vale 4 e A vale 5\n"
     ]
    }
   ],
   "source": [
    "a = 5\n",
    "b = 1\n",
    "c = a - b\n",
    "\n",
    "print(\"C vale {} e A vale {}\".format(c, a)) "
   ]
  },
  {
   "cell_type": "code",
   "execution_count": 31,
   "id": "4cab7e77",
   "metadata": {},
   "outputs": [
    {
     "name": "stdout",
     "output_type": "stream",
     "text": [
      "C vale 4 e A vale 5. Lembrando, C vale 4\n"
     ]
    }
   ],
   "source": [
    "a = 5\n",
    "b = 1\n",
    "c = a - b\n",
    "\n",
    "print(\"C vale {0} e A vale {1}. Lembrando, C vale {0}\".format(c, a)) "
   ]
  },
  {
   "cell_type": "code",
   "execution_count": 32,
   "id": "b9e76ba7",
   "metadata": {},
   "outputs": [
    {
     "name": "stdout",
     "output_type": "stream",
     "text": [
      "C vale 4 e A vale 5. Lembrando, C vale 4\n"
     ]
    }
   ],
   "source": [
    "a = 5\n",
    "b = 1\n",
    "c = a - b\n",
    "\n",
    "print(\"C vale %d e A vale %d. Lembrando, C vale %d\" % (c, a, c)) # não recomendado"
   ]
  },
  {
   "cell_type": "markdown",
   "id": "a9d448cf",
   "metadata": {},
   "source": [
    "str -> transforma numero em string<br>\n",
    "in -> verifica se um texto está contido dentro do outro<br>\n",
    "operador + -> concatena string<br>\n",
    "format e {} -> substitui valores<br>\n",
    "%s -> substitui textos<br>\n",
    "%d -> substitui numeros decimais<br>\n"
   ]
  },
  {
   "cell_type": "markdown",
   "id": "da63c212",
   "metadata": {},
   "source": [
    "# Métodos\n",
    "capitalize() - coloca a primeira letra maiuscula\n",
    "\n",
    "casefold() - transforma todas as letras em minusculas (existe lower() mas o casefold() é melhor normalmente)\n",
    "\n",
    "count() - quantidade de vezes que um valor aparece na string\n",
    "\n",
    "endswith() - verifica se o texto termina com um valor específico e dá como resposta True ou False\n",
    "\n",
    "find() - procura um texto dentro de outro texto e retorna a posição do texto que foi encontrado\n",
    "\n",
    "format() - formatação\n",
    "\n",
    "isalnum() -> verifica se todos os textos são alfanumericos (letras ou numeros)\n",
    "\n",
    "isalpha() -> verifica se é letra\n",
    "\n",
    "isnumeric() -> verifica se é só número\n",
    "\n",
    "replace() -> substitui um texto por outro na string\n",
    "\n",
    "split() -> separa uma string de acordo com um delimitador em vários textos diferentes\n",
    "\n",
    "splitlines() -> separa um texto em vários textos de acordo com os enters do texto\n",
    "\n",
    "startswith() -> verifica se o primeiro caractere é o especificado\n",
    "\n",
    "strip() -> retira caracteres indesejados no texto. por padrão retira espaços extras no início e no final\n",
    "\n",
    "title() -> a primeira letra de cada palavra torna-se maiuscula\n",
    "\n",
    "upper() -> coloca todo o texto em maiusculo"
   ]
  },
  {
   "cell_type": "code",
   "execution_count": 59,
   "id": "a82ebe94",
   "metadata": {},
   "outputs": [
    {
     "name": "stdout",
     "output_type": "stream",
     "text": [
      "Dev\n",
      "newbie\n",
      "2\n",
      "True\n",
      "3\n",
      "-1\n",
      "True\n",
      "True\n",
      "False\n",
      "\n",
      "div\n",
      "dev\n",
      "\n",
      "['NE', 'BIE']\n",
      "\n",
      "['vazio agudo ando meio cheio de tudo', 'paulo leminski']\n",
      "True\n",
      "        amor           \n",
      "amor\n",
      "Vazio Agudo Ando Meio Cheio De Tudo\n",
      "Paulo Leminski\n",
      "DEV\n"
     ]
    }
   ],
   "source": [
    "texto = \"dev\"\n",
    "frase = \"NEWBIE\"\n",
    "paragrafo = '''vazio agudo ando meio cheio de tudo\n",
    "paulo leminski'''\n",
    "teste = \"        amor           \"\n",
    "\n",
    "print(texto.capitalize())\n",
    "print(frase.casefold())\n",
    "print(frase.count('E'))\n",
    "print(frase.endswith('E'))\n",
    "print(frase.find('B'))\n",
    "print(frase.find('G'))\n",
    "print(texto.isalnum())\n",
    "print(texto.isalpha())\n",
    "print(texto.isnumeric())\n",
    "print()\n",
    "print(texto.replace('e', 'i'))\n",
    "print(texto)\n",
    "print()\n",
    "print(frase.split('W'))\n",
    "print()\n",
    "print(paragrafo.splitlines())\n",
    "print(texto.startswith('d'))\n",
    "print(teste)\n",
    "print(teste.strip())\n",
    "print(paragrafo.title())\n",
    "print(texto.upper())"
   ]
  }
 ],
 "metadata": {
  "kernelspec": {
   "display_name": "Python 3 (ipykernel)",
   "language": "python",
   "name": "python3"
  },
  "language_info": {
   "codemirror_mode": {
    "name": "ipython",
    "version": 3
   },
   "file_extension": ".py",
   "mimetype": "text/x-python",
   "name": "python",
   "nbconvert_exporter": "python",
   "pygments_lexer": "ipython3",
   "version": "3.9.12"
  }
 },
 "nbformat": 4,
 "nbformat_minor": 5
}

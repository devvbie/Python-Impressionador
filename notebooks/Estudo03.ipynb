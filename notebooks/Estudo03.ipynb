{
 "cells": [
  {
   "cell_type": "code",
   "execution_count": 1,
   "id": "6c87e0c2",
   "metadata": {},
   "outputs": [
    {
     "name": "stdout",
     "output_type": "stream",
     "text": [
      "1\n"
     ]
    }
   ],
   "source": [
    "condicao = 1\n",
    "\n",
    "if condicao:\n",
    "    instrucao = 1\n",
    "    print(instrucao)"
   ]
  },
  {
   "cell_type": "code",
   "execution_count": 8,
   "id": "ed6e2e2b",
   "metadata": {},
   "outputs": [
    {
     "name": "stdout",
     "output_type": "stream",
     "text": [
      "digite o numero: 2\n",
      "é par\n",
      "fim\n"
     ]
    }
   ],
   "source": [
    "num = int(input(\"digite o numero: \"))\n",
    "\n",
    "if num%2==0:\n",
    "    print(\"é par\")\n",
    "print(\"fim\")"
   ]
  },
  {
   "cell_type": "code",
   "execution_count": 9,
   "id": "8d5196d6",
   "metadata": {},
   "outputs": [
    {
     "name": "stdout",
     "output_type": "stream",
     "text": [
      "digite o numero: 3\n",
      "é impar\n",
      "fim\n"
     ]
    }
   ],
   "source": [
    "num = int(input(\"digite o numero: \"))\n",
    "\n",
    "if num%2==0:\n",
    "    print(\"é par\")\n",
    "else:\n",
    "    print(\"é impar\")\n",
    "print(\"fim\")"
   ]
  },
  {
   "cell_type": "code",
   "execution_count": 10,
   "id": "2fa391d0",
   "metadata": {},
   "outputs": [
    {
     "name": "stdout",
     "output_type": "stream",
     "text": [
      "5\n"
     ]
    }
   ],
   "source": [
    "condicao = 1\n",
    "\n",
    "if condicao:\n",
    "    instrucao = 1\n",
    "    instrucao = 2\n",
    "    instrucao = 3\n",
    "    instrucao = 4\n",
    "    instrucao = 5\n",
    "    print(instrucao)"
   ]
  },
  {
   "cell_type": "markdown",
   "id": "c01cf8a5",
   "metadata": {},
   "source": [
    "# Ifs aninhados: obedecer identações"
   ]
  },
  {
   "cell_type": "code",
   "execution_count": null,
   "id": "2ec3a992",
   "metadata": {},
   "outputs": [],
   "source": []
  }
 ],
 "metadata": {
  "kernelspec": {
   "display_name": "Python 3 (ipykernel)",
   "language": "python",
   "name": "python3"
  },
  "language_info": {
   "codemirror_mode": {
    "name": "ipython",
    "version": 3
   },
   "file_extension": ".py",
   "mimetype": "text/x-python",
   "name": "python",
   "nbconvert_exporter": "python",
   "pygments_lexer": "ipython3",
   "version": "3.9.12"
  }
 },
 "nbformat": 4,
 "nbformat_minor": 5
}

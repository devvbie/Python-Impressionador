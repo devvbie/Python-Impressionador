{
 "cells": [
  {
   "cell_type": "markdown",
   "id": "49d17ec4",
   "metadata": {},
   "source": [
    "# Introdução a Orientação a Objeto\n",
    "- Tudo no Python é um objeto (string, lista, dicionario, variáveis, etc)\n",
    "- Exemplo do controle remoto da televisão\n",
    "    - O 'controle' é um objeto!\n",
    "    - Controle com vários métodos específicos diferentes\n",
    "- objeto.{o que quero fazer com o objeto}()\n",
    "    - texto.upper()\n",
    "- vantagens: o python possui milhares de bibliotecas prontas que podemos usar no nosso código!!\n",
    "    - Assim, vamos poder importar módulos novos"
   ]
  },
  {
   "cell_type": "markdown",
   "id": "1bf2ce63",
   "metadata": {},
   "source": [
    "# O que são módulos?\n",
    "- Um módulo no python é um arquivo em python cheio de código em que dentro desse código existem objetos já criados para nós\n",
    "- sabendo utilizar módulos, você pode fazer praticamente tudo em python!"
   ]
  },
  {
   "cell_type": "code",
   "execution_count": null,
   "id": "1657d882",
   "metadata": {},
   "outputs": [],
   "source": [
    "import modulo\n",
    "\n",
    "ou\n",
    "\n",
    "import modulo as apelido"
   ]
  },
  {
   "cell_type": "markdown",
   "id": "26898069",
   "metadata": {},
   "source": [
    "## Como fazer nosso código abrir um site específico na internet?\n"
   ]
  },
  {
   "cell_type": "code",
   "execution_count": 1,
   "id": "f1ac4131",
   "metadata": {},
   "outputs": [
    {
     "data": {
      "text/plain": [
       "True"
      ]
     },
     "execution_count": 1,
     "metadata": {},
     "output_type": "execute_result"
    }
   ],
   "source": [
    "import webbrowser\n",
    "\n",
    "webbrowser.open(\"https://github.com/devvbie\")"
   ]
  },
  {
   "cell_type": "code",
   "execution_count": 2,
   "id": "59cc985a",
   "metadata": {},
   "outputs": [
    {
     "data": {
      "text/plain": [
       "True"
      ]
     },
     "execution_count": 2,
     "metadata": {},
     "output_type": "execute_result"
    }
   ],
   "source": [
    "import webbrowser as wb\n",
    "\n",
    "wb.open(\"https://github.com/devvbie\")"
   ]
  },
  {
   "cell_type": "code",
   "execution_count": null,
   "id": "9a56a22f",
   "metadata": {},
   "outputs": [],
   "source": [
    "# importa o módulo sem precisar usar o nome dele\n",
    "from modulo import *\n",
    "\n",
    "# importa apenas algumas partes do modulo\n",
    "from modulo import funcao1, funcao2, etc"
   ]
  },
  {
   "cell_type": "markdown",
   "id": "3b7292b0",
   "metadata": {},
   "source": [
    "# Modulo time"
   ]
  },
  {
   "cell_type": "code",
   "execution_count": 9,
   "id": "37678588",
   "metadata": {},
   "outputs": [
    {
     "name": "stdout",
     "output_type": "stream",
     "text": [
      "Fri Sep  2 19:42:39 2022\n"
     ]
    }
   ],
   "source": [
    "import time\n",
    "# trabalha com um marco 0 = 1 de janeiro de 1970 00:00:00\n",
    "print(time.ctime())\n"
   ]
  },
  {
   "cell_type": "code",
   "execution_count": 20,
   "id": "84e6c12c",
   "metadata": {},
   "outputs": [
    {
     "name": "stdout",
     "output_type": "stream",
     "text": [
      "3.174031972885132\n"
     ]
    }
   ],
   "source": [
    "inicio = time.time()\n",
    "\n",
    "for i in range(100000000):\n",
    "    pass\n",
    "\n",
    "fim = time.time()\n",
    "print(fim - inicio)"
   ]
  },
  {
   "cell_type": "code",
   "execution_count": 21,
   "id": "533b09c2",
   "metadata": {},
   "outputs": [
    {
     "name": "stdout",
     "output_type": "stream",
     "text": [
      "inicio\n",
      "contei até 10 e você nem viu\n"
     ]
    }
   ],
   "source": [
    "print(\"inicio\")\n",
    "time.sleep(10)\n",
    "print(\"contei até 10 e você nem viu\")"
   ]
  },
  {
   "cell_type": "code",
   "execution_count": null,
   "id": "55937549",
   "metadata": {},
   "outputs": [],
   "source": [
    "etc"
   ]
  },
  {
   "cell_type": "code",
   "execution_count": null,
   "id": "7566d180",
   "metadata": {},
   "outputs": [],
   "source": []
  }
 ],
 "metadata": {
  "kernelspec": {
   "display_name": "Python 3 (ipykernel)",
   "language": "python",
   "name": "python3"
  },
  "language_info": {
   "codemirror_mode": {
    "name": "ipython",
    "version": 3
   },
   "file_extension": ".py",
   "mimetype": "text/x-python",
   "name": "python",
   "nbconvert_exporter": "python",
   "pygments_lexer": "ipython3",
   "version": "3.9.12"
  }
 },
 "nbformat": 4,
 "nbformat_minor": 5
}

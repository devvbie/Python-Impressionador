{
 "cells": [
  {
   "cell_type": "markdown",
   "id": "49d17ec4",
   "metadata": {},
   "source": [
    "# Introdução a Orientação a Objeto\n",
    "- Tudo no Python é um objeto (string, lista, dicionario, variáveis, etc)\n",
    "- Exemplo do controle remoto da televisão\n",
    "    - O 'controle' é um objeto!\n",
    "    - Controle com vários métodos específicos diferentes\n",
    "- objeto.{o que quero fazer com o objeto}()\n",
    "    - texto.upper()\n",
    "- vantagens: o python possui milhares de bibliotecas prontas que podemos usar no nosso código!!\n",
    "    - Assim, vamos poder importar módulos novos"
   ]
  },
  {
   "cell_type": "markdown",
   "id": "1bf2ce63",
   "metadata": {},
   "source": []
  },
  {
   "cell_type": "code",
   "execution_count": null,
   "id": "1657d882",
   "metadata": {},
   "outputs": [],
   "source": []
  }
 ],
 "metadata": {
  "kernelspec": {
   "display_name": "Python 3 (ipykernel)",
   "language": "python",
   "name": "python3"
  },
  "language_info": {
   "codemirror_mode": {
    "name": "ipython",
    "version": 3
   },
   "file_extension": ".py",
   "mimetype": "text/x-python",
   "name": "python",
   "nbconvert_exporter": "python",
   "pygments_lexer": "ipython3",
   "version": "3.9.12"
  }
 },
 "nbformat": 4,
 "nbformat_minor": 5
}
